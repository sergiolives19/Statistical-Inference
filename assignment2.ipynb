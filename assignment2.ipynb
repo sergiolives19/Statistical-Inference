{
  "nbformat": 4,
  "nbformat_minor": 0,
  "metadata": {
    "colab": {
      "name": "Assignment2.ipynb",
      "provenance": [],
      "collapsed_sections": []
    },
    "kernelspec": {
      "name": "python3",
      "display_name": "Python 3"
    },
    "language_info": {
      "name": "python"
    }
  },
  "cells": [
    {
      "cell_type": "markdown",
      "source": [
        "Part A"
      ],
      "metadata": {
        "id": "Xo3lQCNzm3i3"
      }
    },
    {
      "cell_type": "markdown",
      "source": [
        "Exercise A:1"
      ],
      "metadata": {
        "id": "acJp-VhA2atu"
      }
    },
    {
      "cell_type": "code",
      "execution_count": null,
      "metadata": {
        "id": "Mr2mXOC8jgd5",
        "colab": {
          "base_uri": "https://localhost:8080/"
        },
        "outputId": "c21dbcea-a3d8-4b04-95f6-9f96dd9d3b4f"
      },
      "outputs": [
        {
          "output_type": "stream",
          "name": "stdout",
          "text": [
            "Population:  [1 1 2 2 2 3 3 3 3 3 3 3 3 3 3 3 3 3 3 3 3 3 3 3 3 3 3 3 3 3 3 3 3 3 3 3 3\n",
            " 3 3 3 3 3 3 3 3 3 3 3 3 3 3 3 3 3 3 3 3 3 3 3 3 3 3 3 3 3 3 3 3 3 3 3 3 3\n",
            " 3 3 3 3 3 3 3 3 3 3 3 3 3 3 3 3 3 3 3 3 3 3 3 3 3 3 3 3 3 3 3 3 3 3 3 3 3\n",
            " 3 3 3 3 3 3 3 3 3 3 3 3 3 3 3 3 3 3 3 3 3 3 3 3 3 3 3 3 3 3 3 3 3 3 3 3 3\n",
            " 3 3 3 3 3 3 3 3 3 3 3 3 3 3 3 3 3 3 3 3 3 3 3 3 3 3 3 3 3 3 3 3 3 3 3 3 3\n",
            " 3 3 3 3 3 3 3 3 3 3 3 3 3 3 3]\n",
            "Sample with replacement:  [3 3 3 3 3 3 3 3 3 3 3 3 3 3 3 3 3 3 3 3 3 3 3 3 3 3 3 3 3 3 3 3 3 3 3 3 1\n",
            " 3 3 3 3 3 3 3 3 3 3 3 3 3 3 3 3 3 3 3 3 3 3 3 3 3 3 3 3 3 3 3 3 3 3 3 3 3\n",
            " 3 3 3 3 3 3 3 3 3 2 3 3 3 3 2 3 3 3 3 3 3 3 3 3 3 3]\n"
          ]
        }
      ],
      "source": [
        "import numpy as np\n",
        "\n",
        "#Create urn\n",
        "np_values = np.asarray([1, 2, 3])\n",
        "np_counts = np.asarray([2, 3, 195])\n",
        "np_urn = np.repeat(np_values, np_counts)\n",
        "print(\"Population: \", np_urn)\n",
        "\n",
        "#Draw with replacement\n",
        "N = 100\n",
        "np_draw_with_replacement = np.random.choice(np_urn, size=N, p=None, replace=True)\n",
        "print(\"Sample with replacement: \", np_draw_with_replacement)"
      ]
    },
    {
      "cell_type": "markdown",
      "source": [
        "Exercise A:2"
      ],
      "metadata": {
        "id": "xcayQNTdm_PA"
      }
    },
    {
      "cell_type": "code",
      "source": [
        "#Create urn\n",
        "np_values = np.asarray([1, 2, 3, 4, 5])\n",
        "np_counts = np.asarray([1, 1, 1, 1, 1])\n",
        "times = [54, 66, 70, 72, 97]\n",
        "np_urn = np.repeat(np_values, np_counts)\n",
        "\n",
        "total_times = []\n",
        "\n",
        "for i in range(1000):\n",
        "\n",
        "  #Draw with replacement\n",
        "  N=3\n",
        "  np_draw_with_replacement = np.random.choice(np_urn, size=N, p=None, replace=True)\n",
        "\n",
        "  total_time = 0\n",
        "  for sample in np_draw_with_replacement:\n",
        "    total_time += times[sample-1]\n",
        "  total_times.append(total_time)\n",
        "\n",
        "count=0\n",
        "for time in total_times:\n",
        "  if time > 200:\n",
        "    count += 1\n",
        "print(f'Probability of not completing after 200 min: {round(count/len(total_times), 2)*100}%')"
      ],
      "metadata": {
        "colab": {
          "base_uri": "https://localhost:8080/"
        },
        "id": "gTtrqxxfnBLS",
        "outputId": "89fc314c-bcd9-4329-abd9-55a6bce269e0"
      },
      "execution_count": null,
      "outputs": [
        {
          "output_type": "stream",
          "name": "stdout",
          "text": [
            "Probability of not completing after 200 min: 69.0%\n"
          ]
        }
      ]
    },
    {
      "cell_type": "markdown",
      "source": [
        "Exercise A:3"
      ],
      "metadata": {
        "id": "moB-IzM2t6FY"
      }
    },
    {
      "cell_type": "code",
      "source": [
        "#Create urn - i\n",
        "np_values = np.asarray([1, 2])\n",
        "np_counts = np.asarray([4, 8])\n",
        "np_urn = np.repeat(np_values, np_counts)\n",
        "\n",
        "all_good = []\n",
        "\n",
        "for i in range(1000):\n",
        "\n",
        "  #Draw with replacement\n",
        "  N=3\n",
        "  np_draw_with_replacement = np.random.choice(np_urn, size=N, p=None, replace=False)\n",
        "\n",
        "  good = True\n",
        "  for instrument in np_draw_with_replacement:\n",
        "    if instrument == 1:\n",
        "      good = False\n",
        "  all_good.append(good)\n",
        "\n",
        "fraction = all_good.count(True)/len(all_good)\n",
        "\n",
        "print(f\"Probability that all instruments are good: {round(fraction*100, 2)}%\")"
      ],
      "metadata": {
        "id": "8isdqibeuJU_",
        "colab": {
          "base_uri": "https://localhost:8080/"
        },
        "outputId": "ace08e19-d57e-4e7b-a030-3fa48e09aff5"
      },
      "execution_count": null,
      "outputs": [
        {
          "output_type": "stream",
          "name": "stdout",
          "text": [
            "Probability that all instruments are good: 26.3%\n"
          ]
        }
      ]
    },
    {
      "cell_type": "code",
      "source": [
        "#Create urn - ii\n",
        "np_values = np.asarray([1, 2])\n",
        "np_counts = np.asarray([400, 800])\n",
        "np_urn = np.repeat(np_values, np_counts)\n",
        "\n",
        "all_good = []\n",
        "\n",
        "for i in range(1000):\n",
        "\n",
        "  #Draw with replacement\n",
        "  N = 3\n",
        "  np_draw_with_replacement = np.random.choice(np_urn, size=N, p=None, replace=False)\n",
        "\n",
        "  good = True\n",
        "  for instrument in np_draw_with_replacement:\n",
        "    if instrument == 1:\n",
        "      good = False\n",
        "  all_good.append(good)\n",
        "\n",
        "fraction = all_good.count(True)/len(all_good)\n",
        "\n",
        "print(f\"Probability that all instruments are good: {round(fraction*100, 2)}%\")"
      ],
      "metadata": {
        "id": "sT9_gDSJyEfx",
        "colab": {
          "base_uri": "https://localhost:8080/"
        },
        "outputId": "d423ef62-d066-4035-a9e4-d40bb78d67d8"
      },
      "execution_count": null,
      "outputs": [
        {
          "output_type": "stream",
          "name": "stdout",
          "text": [
            "Probability that all instruments are good: 30.6%\n"
          ]
        }
      ]
    },
    {
      "cell_type": "code",
      "source": [
        "#Create urn - iii\n",
        "np_values = np.asarray([1, 2])\n",
        "np_counts = np.asarray([1, 2])\n",
        "np_urn = np.repeat(np_values, np_counts)\n",
        "\n",
        "all_good = []\n",
        "\n",
        "for i in range(1000):\n",
        "\n",
        "  #Draw with replacement\n",
        "  N = 3\n",
        "  np_draw_with_replacement = np.random.choice(np_urn, size=N, p=None, replace=True)\n",
        "\n",
        "  good = True\n",
        "  for instrument in np_draw_with_replacement:\n",
        "    if instrument == 1:\n",
        "      good = False\n",
        "  all_good.append(good)\n",
        "\n",
        "fraction = all_good.count(True)/len(all_good)\n",
        "\n",
        "print(f\"Probability that all instruments are good: {round(fraction*100, 2)}%\")"
      ],
      "metadata": {
        "colab": {
          "base_uri": "https://localhost:8080/"
        },
        "id": "5Z8l1rNQzcNl",
        "outputId": "4f7cae57-984c-4130-fe10-155820c4b903"
      },
      "execution_count": null,
      "outputs": [
        {
          "output_type": "stream",
          "name": "stdout",
          "text": [
            "Probability that all instruments are good: 30.9%\n"
          ]
        }
      ]
    },
    {
      "cell_type": "markdown",
      "source": [
        "Results for sub-sections 2 and 3 are closer with respect to result from sub-section 1, that's because sub-section 1 simulates a small population and sub-sections 2 and 3 simulate a large population."
      ],
      "metadata": {
        "id": "V3n8-rRm015d"
      }
    },
    {
      "cell_type": "markdown",
      "source": [
        "Exercise A:4"
      ],
      "metadata": {
        "id": "Y8kNhFDo2T2x"
      }
    },
    {
      "cell_type": "code",
      "source": [
        "#Create urn\n",
        "np_values = np.asarray([1, 2])\n",
        "np_counts = np.asarray([93, 7])\n",
        "np_urn = np.repeat(np_values, np_counts)\n",
        "\n",
        "good_wells = []\n",
        "\n",
        "for i in range(1000):\n",
        "\n",
        "  #Draw with replacement\n",
        "  N = 96\n",
        "  np_draw_with_replacement = np.random.choice(np_urn, size=N, p=None, replace=True)\n",
        "\n",
        "  unique, count = np.unique(np_draw_with_replacement, return_counts=True)\n",
        "  good_wells.append(count[0])\n",
        "\n",
        "from matplotlib import pyplot as plt\n",
        "\n",
        "plt.hist(good_wells, bins = 15)\n",
        "plt.title(\"histogram\")\n",
        "plt.show()"
      ],
      "metadata": {
        "colab": {
          "base_uri": "https://localhost:8080/",
          "height": 281
        },
        "id": "YO9NuUKb2kuS",
        "outputId": "7d40d30b-f22d-4139-df48-2331324903e9"
      },
      "execution_count": null,
      "outputs": [
        {
          "output_type": "display_data",
          "data": {
            "image/png": "[encoded data removed]",
            "text/plain": [
              "<Figure size 432x288 with 1 Axes>"
            ]
          },
          "metadata": {
            "needs_background": "light"
          }
        }
      ]
    },
    {
      "cell_type": "markdown",
      "source": [
        "Part B"
      ],
      "metadata": {
        "id": "P2QhfaC2BCTE"
      }
    },
    {
      "cell_type": "markdown",
      "source": [
        "Exercise B:1"
      ],
      "metadata": {
        "id": "_6xRYjh3BDvr"
      }
    },
    {
      "cell_type": "code",
      "source": [
        "import matplotlib.pyplot as plt\n",
        "import numpy as np\n",
        "import scipy.stats as stats\n",
        "import math\n",
        "\n",
        "#Normal distribution\n",
        "\n",
        "mu = 0\n",
        "variance = 2\n",
        "sigma = math.sqrt(variance)\n",
        "x = np.linspace(mu - 3*sigma, mu + 3*sigma, 100)\n",
        "normal_dist = stats.norm.pdf(x, mu, sigma)\n",
        "plt.plot(x, normal_dist)\n",
        "plt.title('Normal Distribution')\n",
        "plt.xlabel('x')\n",
        "plt.ylabel('pdf')\n",
        "plt.show()"
      ],
      "metadata": {
        "id": "b28cpeFfBIli",
        "colab": {
          "base_uri": "https://localhost:8080/",
          "height": 295
        },
        "outputId": "98a2ec10-6b33-4bb2-9b09-c098bb405fce"
      },
      "execution_count": null,
      "outputs": [
        {
          "output_type": "display_data",
          "data": {
            "image/png": "[encoded data removed]",
            "text/plain": [
              "<Figure size 432x288 with 1 Axes>"
            ]
          },
          "metadata": {
            "needs_background": "light"
          }
        }
      ]
    },
    {
      "cell_type": "code",
      "source": [
        "#Beta Distribution\n",
        "a = 2\n",
        "b = 5\n",
        "sigma = math.sqrt(variance)\n",
        "x = np.linspace(0, 1, 100)\n",
        "\n",
        "beta_dist = stats.beta.pdf(x,a,b)\n",
        "plt.plot(x, beta_dist)\n",
        "plt.title('Beta Distribution')\n",
        "plt.xlabel('x')\n",
        "plt.ylabel('pdf')\n",
        "plt.show()"
      ],
      "metadata": {
        "colab": {
          "base_uri": "https://localhost:8080/",
          "height": 295
        },
        "id": "Ykp_MutpC75j",
        "outputId": "9fae4dcf-bb0f-4919-93ad-b20a2caf65a4"
      },
      "execution_count": null,
      "outputs": [
        {
          "output_type": "display_data",
          "data": {
            "image/png": "[encoded data removed]",
            "text/plain": [
              "<Figure size 432x288 with 1 Axes>"
            ]
          },
          "metadata": {
            "needs_background": "light"
          }
        }
      ]
    },
    {
      "cell_type": "code",
      "source": [
        "#Weibull Distribution\n",
        "lam = 1\n",
        "k = 1.5\n",
        "x = np.linspace(1, 4, 100)\n",
        "\n",
        "weibull_dist = stats.weibull_min.pdf(x, k, lam)\n",
        "plt.plot(x, weibull_dist)\n",
        "plt.title('Weibull Distribution')\n",
        "plt.xlabel('x')\n",
        "plt.ylabel('pdf')\n",
        "plt.show()"
      ],
      "metadata": {
        "colab": {
          "base_uri": "https://localhost:8080/",
          "height": 295
        },
        "id": "xrPQTIYFE29p",
        "outputId": "b7bcf29d-4acb-418a-e177-7f6d107d018f"
      },
      "execution_count": null,
      "outputs": [
        {
          "output_type": "display_data",
          "data": {
            "image/png": "[encoded data removed]",
            "text/plain": [
              "<Figure size 432x288 with 1 Axes>"
            ]
          },
          "metadata": {
            "needs_background": "light"
          }
        }
      ]
    },
    {
      "cell_type": "code",
      "source": [
        "N = 10\n",
        "\n",
        "normal_sample = np.random.normal(mu, sigma, N)\n",
        "print(f\"Normal distribution sample: {normal_sample}\")\n",
        "\n",
        "beta_sample = np.random.beta(a, b, N)\n",
        "print(f\"Beta distribution sample: {beta_sample}\")\n",
        "\n",
        "weibull_sample = lam*np.random.weibull(k, N)\n",
        "print(f\"Weibull distribution sample: {beta_sample}\")"
      ],
      "metadata": {
        "colab": {
          "base_uri": "https://localhost:8080/"
        },
        "id": "l8q7HvjTI3Wz",
        "outputId": "5a9f3e5a-0346-4bc5-b0ab-6a1a97f5c92b"
      },
      "execution_count": null,
      "outputs": [
        {
          "output_type": "stream",
          "name": "stdout",
          "text": [
            "Normal distribution sample: [-1.03829258 -0.16371997  0.74893734  0.17865341 -0.9441911  -2.87022815\n",
            " -2.82170603  0.02879034  1.89323866 -1.48120378]\n",
            "Beta distribution sample: [0.47158469 0.24215418 0.34070748 0.14679059 0.3419449  0.59957726\n",
            " 0.20499109 0.47241842 0.5613699  0.09644843]\n",
            "Weibull distribution sample: [0.47158469 0.24215418 0.34070748 0.14679059 0.3419449  0.59957726\n",
            " 0.20499109 0.47241842 0.5613699  0.09644843]\n"
          ]
        }
      ]
    },
    {
      "cell_type": "markdown",
      "source": [
        "Exercise B:2"
      ],
      "metadata": {
        "id": "YutZ4_vGMEjl"
      }
    },
    {
      "cell_type": "code",
      "source": [
        "x = np.linspace(-3, 3, 1000)\n",
        "pdf = []\n",
        "for xi in x:\n",
        "  pdf.append(0.05*stats.norm.pdf(xi, -2, 0.1) + 0.05*stats.norm.pdf(xi, 2, 0.1) + 0.9*stats.norm.pdf(xi, 0, 1))\n",
        "plt.plot(x, pdf)\n",
        "plt.show()"
      ],
      "metadata": {
        "colab": {
          "base_uri": "https://localhost:8080/",
          "height": 265
        },
        "id": "e8RzZ4IksM-N",
        "outputId": "9c082bc9-edb1-4776-b65b-fd5c17263b08"
      },
      "execution_count": null,
      "outputs": [
        {
          "output_type": "display_data",
          "data": {
            "image/png": "[encoded data removed]",
            "text/plain": [
              "<Figure size 432x288 with 1 Axes>"
            ]
          },
          "metadata": {
            "needs_background": "light"
          }
        }
      ]
    },
    {
      "cell_type": "code",
      "source": [
        "N = 1000\n",
        "samples = []\n",
        "for i in range(N):\n",
        "  r = np.random.uniform(0, 1)\n",
        "  if r <= 0.05:\n",
        "    samples.append(np.random.normal(-2, 0.1))\n",
        "  elif r <= 0.1:\n",
        "    samples.append(np.random.normal(2, 0.1))\n",
        "  else:\n",
        "    samples.append(np.random.normal(0, 1))\n",
        "\n",
        "plt.hist(samples, bins=28, density=True)\n",
        "plt.title(\"histogram\")\n",
        "plt.show()"
      ],
      "metadata": {
        "colab": {
          "base_uri": "https://localhost:8080/",
          "height": 281
        },
        "id": "RNNxCksoqCjH",
        "outputId": "11460d7b-4bd1-4d18-f95d-9c5a38e074e4"
      },
      "execution_count": null,
      "outputs": [
        {
          "output_type": "display_data",
          "data": {
            "image/png": "[encoded data removed]",
            "text/plain": [
              "<Figure size 432x288 with 1 Axes>"
            ]
          },
          "metadata": {
            "needs_background": "light"
          }
        }
      ]
    },
    {
      "cell_type": "markdown",
      "source": [
        "Exercise B:3"
      ],
      "metadata": {
        "id": "DSdMGBd4vbLd"
      }
    },
    {
      "cell_type": "code",
      "source": [
        "N = 1000\n",
        "mean = [0, 0]\n",
        "cov = [[1, 0.7], [0.7, 3]]\n",
        "sample = np.asarray(np.random.multivariate_normal(mean, cov, size=N))\n",
        "plt.scatter(sample[:,0], sample[:,1])\n",
        "plt.title(\"Positive correlation\")\n",
        "plt.xlabel(\"x1\")\n",
        "plt.ylabel(\"x2\")\n",
        "lim = 6\n",
        "plt.xlim(-lim, lim)\n",
        "plt.ylim(-lim, lim)\n",
        "plt.show()"
      ],
      "metadata": {
        "colab": {
          "base_uri": "https://localhost:8080/",
          "height": 295
        },
        "id": "fXKhc3eYvjZs",
        "outputId": "b7416b42-4a17-4164-d3bb-e0db4acdc2d1"
      },
      "execution_count": null,
      "outputs": [
        {
          "output_type": "display_data",
          "data": {
            "image/png": "[encoded data removed]",
            "text/plain": [
              "<Figure size 432x288 with 1 Axes>"
            ]
          },
          "metadata": {
            "needs_background": "light"
          }
        }
      ]
    },
    {
      "cell_type": "code",
      "source": [
        "N = 1000\n",
        "mean = [0, 0]\n",
        "cov = [[1, -0.7], [-0.7, 3]]\n",
        "sample = np.asarray(np.random.multivariate_normal(mean, cov, size=N))\n",
        "plt.scatter(sample[:,0], sample[:,1])\n",
        "plt.title(\"Negative correlation\")\n",
        "plt.xlabel(\"x1\")\n",
        "plt.ylabel(\"x2\")\n",
        "lim = 6\n",
        "plt.xlim(-lim, lim)\n",
        "plt.ylim(-lim, lim)\n",
        "plt.show()"
      ],
      "metadata": {
        "colab": {
          "base_uri": "https://localhost:8080/",
          "height": 295
        },
        "id": "QKBOUs1QzVKk",
        "outputId": "f9fb2749-1a15-43fb-ce47-c9389d3e000c"
      },
      "execution_count": null,
      "outputs": [
        {
          "output_type": "display_data",
          "data": {
            "image/png": "[encoded data removed]",
            "text/plain": [
              "<Figure size 432x288 with 1 Axes>"
            ]
          },
          "metadata": {
            "needs_background": "light"
          }
        }
      ]
    },
    {
      "cell_type": "code",
      "source": [
        "N = 1000\n",
        "mean = [0, 0]\n",
        "cov = [[1, 0], [0, 3]]\n",
        "sample = np.asarray(np.random.multivariate_normal(mean, cov, size=N))\n",
        "plt.scatter(sample[:,0], sample[:,1])\n",
        "plt.title(\"No correlation\")\n",
        "plt.xlabel(\"x1\")\n",
        "plt.ylabel(\"x2\")\n",
        "lim = 6\n",
        "plt.xlim(-lim, lim)\n",
        "plt.ylim(-lim, lim)\n",
        "plt.show()"
      ],
      "metadata": {
        "colab": {
          "base_uri": "https://localhost:8080/",
          "height": 295
        },
        "id": "9EOLDfTBzgFL",
        "outputId": "65646b90-042f-4484-de54-542ad935f18c"
      },
      "execution_count": null,
      "outputs": [
        {
          "output_type": "display_data",
          "data": {
            "image/png": "[encoded data removed]",
            "text/plain": [
              "<Figure size 432x288 with 1 Axes>"
            ]
          },
          "metadata": {
            "needs_background": "light"
          }
        }
      ]
    },
    {
      "cell_type": "markdown",
      "source": [
        "PART C"
      ],
      "metadata": {
        "id": "DOexJpR9r3Sp"
      }
    },
    {
      "cell_type": "markdown",
      "source": [
        "Exercise C:1"
      ],
      "metadata": {
        "id": "s_C9w6-ZGyib"
      }
    },
    {
      "cell_type": "code",
      "source": [
        "import numpy as np\n",
        "import random as rm\n",
        "import matplotlib.pyplot as plt\n",
        "\n",
        "# The states\n",
        "states = [\"G\",\"M\",\"A\"]\n",
        "\n",
        "# Possible sequences of events\n",
        "transitionName = [[\"GG\",\"GM\",\"GA\"],[\"MG\",\"MM\",\"MA\"],[\"AG\",\"AM\",\"AA\"]]\n",
        "\n",
        "# Probabilities matrix (transition matrix)\n",
        "transitionMatrix = [[0.8,0.2,0],[0.8,0,0.2],[0.1,0,0.9]]\n",
        "\n",
        "# A function that implements the Markov model to forecast the states\n",
        "def states(x):\n",
        "    # Choose the starting state\n",
        "    starting_state = \"G\"\n",
        "    #print(\"Start state: \" + starting_state)\n",
        "    # Shall store the sequence of states taken. So, this only has the starting state for now.\n",
        "    Listofstatus = [starting_state]\n",
        "    i = 0\n",
        "    # To calculate the probability of the activityList\n",
        "    prob = 1\n",
        "    while i != x:\n",
        "        if starting_state == \"G\":\n",
        "            change = np.random.choice(transitionName[0],replace=True,p=transitionMatrix[0])\n",
        "            if change == \"GG\":\n",
        "                prob = prob * 0.8\n",
        "                Listofstatus.append(\"G\")\n",
        "                starting_state = \"G\"\n",
        "                pass\n",
        "            elif change == \"GM\":\n",
        "                prob = prob * 0.2\n",
        "                starting_state = \"M\"\n",
        "                Listofstatus.append(\"M\")\n",
        "                starting_state = \"M\"\n",
        "            else:\n",
        "                prob = prob * 0\n",
        "                starting_state = \"A\"\n",
        "                Listofstatus.append(\"A\")\n",
        "                starting_state = \"A\"\n",
        "        elif starting_state == \"M\":\n",
        "            change = np.random.choice(transitionName[1],replace=True,p=transitionMatrix[1])\n",
        "            if change == \"MG\":\n",
        "                prob = prob * 0.8\n",
        "                Listofstatus.append(\"G\")\n",
        "                starting_state = \"G\"\n",
        "                pass\n",
        "            elif change == \"MM\":\n",
        "                prob = prob * 0\n",
        "                starting_state = \"M\"\n",
        "                Listofstatus.append(\"M\")\n",
        "                starting_state = \"M\"\n",
        "            else:\n",
        "                prob = prob * 0.2\n",
        "                starting_state = \"A\"\n",
        "                Listofstatus.append(\"A\")\n",
        "                starting_state = \"A\"\n",
        "        elif starting_state == \"A\":\n",
        "            change = np.random.choice(transitionName[2],replace=True,p=transitionMatrix[2])\n",
        "            if change == \"AG\":\n",
        "                prob = prob * 0.1\n",
        "                Listofstatus.append(\"G\")\n",
        "                starting_state = \"G\"\n",
        "                pass\n",
        "            elif change == \"AM\":\n",
        "                prob = prob * 0\n",
        "                starting_state = \"M\"\n",
        "                Listofstatus.append(\"M\")\n",
        "                starting_state = \"M\"\n",
        "            else:\n",
        "                prob = prob * 0.9\n",
        "                starting_state = \"A\"\n",
        "                Listofstatus.append(\"A\")\n",
        "                starting_state = \"A\"\n",
        "        i += 1\n",
        "    return Listofstatus\n",
        "\n",
        "    #print(\"Possible states: \" + str(Listofstatus))\n",
        "    #print(\"End state after \"+ str(x) + \" x: \" + starting_state)\n",
        "    #print(\"Probability of the possible sequence of states: \" + str(prob))\n",
        "\n",
        "# Function that forecasts the possible state for the next 2 days\n",
        "List = states(2000)\n",
        "print(f\"Sequence: {List}\")\n",
        "\n",
        "import seaborn as sb\n",
        "sb.histplot(List[1000:2000], stat='density')"
      ],
      "metadata": {
        "colab": {
          "base_uri": "https://localhost:8080/",
          "height": 320
        },
        "id": "e2e6Fk8br5-f",
        "outputId": "6b0dba70-80ce-4969-a464-2c19ce2f1a98"
      },
      "execution_count": null,
      "outputs": [
        {
          "output_type": "stream",
          "name": "stdout",
          "text": [
            "Sequence: ['G', 'M', 'G', 'G', 'G', 'G', 'G', 'M', 'A', 'A', 'G', 'G', 'M', 'G', 'G', 'G', 'G', 'G', 'G', 'G', 'G', 'M', 'G', 'G', 'M', 'G', 'G', 'G', 'G', 'G', 'G', 'G', 'G', 'M', 'G', 'G', 'G', 'G', 'G', 'M', 'G', 'M', 'A', 'A', 'A', 'A', 'A', 'A', 'A', 'A', 'A', 'A', 'A', 'A', 'A', 'A', 'A', 'A', 'A', 'A', 'A', 'A', 'A', 'A', 'A', 'A', 'A', 'A', 'A', 'A', 'A', 'A', 'A', 'A', 'A', 'A', 'A', 'A', 'A', 'G', 'G', 'G', 'G', 'M', 'A', 'A', 'A', 'A', 'A', 'A', 'A', 'A', 'A', 'A', 'A', 'A', 'G', 'G', 'G', 'G', 'G', 'G', 'G', 'G', 'G', 'M', 'G', 'G', 'G', 'G', 'G', 'G', 'G', 'G', 'G', 'G', 'G', 'G', 'G', 'G', 'G', 'G', 'G', 'G', 'G', 'G', 'G', 'G', 'G', 'G', 'G', 'M', 'G', 'G', 'G', 'G', 'M', 'A', 'A', 'A', 'A', 'A', 'A', 'A', 'A', 'A', 'G', 'M', 'G', 'G', 'G', 'M', 'G', 'G', 'M', 'G', 'G', 'G', 'G', 'G', 'G', 'G', 'G', 'G', 'M', 'G', 'M', 'A', 'A', 'A', 'A', 'A', 'A', 'A', 'A', 'A', 'A', 'A', 'A', 'G', 'M', 'G', 'G', 'G', 'M', 'G', 'M', 'A', 'A', 'A', 'G', 'M', 'G', 'G', 'M', 'A', 'A', 'G', 'G', 'G', 'G', 'G', 'M', 'G', 'G', 'G', 'G', 'M', 'A', 'A', 'A', 'A', 'A', 'A', 'A', 'A', 'A', 'A', 'A', 'A', 'A', 'A', 'A', 'A', 'A', 'A', 'A', 'A', 'A', 'A', 'A', 'G', 'G', 'M', 'G', 'G', 'G', 'G', 'M', 'G', 'G', 'G', 'G', 'G', 'M', 'G', 'G', 'G', 'G', 'G', 'G', 'G', 'G', 'G', 'G', 'G', 'M', 'G', 'G', 'M', 'G', 'M', 'A', 'A', 'A', 'A', 'A', 'A', 'A', 'A', 'G', 'M', 'A', 'A', 'A', 'A', 'A', 'A', 'A', 'A', 'A', 'A', 'A', 'A', 'A', 'A', 'A', 'A', 'A', 'A', 'A', 'A', 'A', 'A', 'A', 'A', 'A', 'G', 'G', 'G', 'G', 'M', 'G', 'G', 'G', 'G', 'G', 'G', 'G', 'G', 'G', 'G', 'G', 'G', 'G', 'G', 'G', 'G', 'G', 'G', 'M', 'G', 'G', 'G', 'G', 'M', 'G', 'G', 'G', 'G', 'G', 'G', 'M', 'G', 'M', 'G', 'G', 'G', 'G', 'M', 'G', 'G', 'G', 'G', 'G', 'G', 'M', 'G', 'G', 'G', 'G', 'G', 'M', 'G', 'G', 'G', 'G', 'M', 'G', 'G', 'M', 'G', 'G', 'M', 'G', 'G', 'G', 'G', 'G', 'G', 'G', 'G', 'G', 'G', 'G', 'G', 'M', 'A', 'A', 'A', 'A', 'A', 'G', 'M', 'G', 'G', 'M', 'G', 'G', 'G', 'G', 'G', 'M', 'A', 'A', 'A', 'A', 'A', 'A', 'A', 'A', 'G', 'G', 'G', 'G', 'G', 'G', 'G', 'G', 'G', 'M', 'A', 'A', 'A', 'A', 'A', 'A', 'A', 'A', 'G', 'G', 'G', 'G', 'M', 'G', 'G', 'G', 'M', 'G', 'M', 'G', 'M', 'A', 'A', 'A', 'A', 'A', 'A', 'G', 'G', 'G', 'G', 'G', 'G', 'G', 'G', 'G', 'M', 'G', 'G', 'G', 'M', 'G', 'M', 'G', 'G', 'G', 'G', 'G', 'G', 'G', 'G', 'M', 'G', 'G', 'G', 'G', 'G', 'M', 'G', 'G', 'G', 'G', 'G', 'G', 'G', 'M', 'A', 'A', 'A', 'A', 'A', 'A', 'A', 'G', 'G', 'G', 'G', 'G', 'G', 'M', 'G', 'G', 'G', 'G', 'M', 'G', 'M', 'A', 'A', 'A', 'A', 'A', 'A', 'G', 'G', 'M', 'A', 'A', 'A', 'A', 'A', 'A', 'A', 'A', 'A', 'A', 'A', 'A', 'A', 'A', 'A', 'A', 'A', 'A', 'A', 'G', 'G', 'G', 'M', 'G', 'M', 'G', 'G', 'G', 'M', 'G', 'G', 'M', 'G', 'G', 'M', 'G', 'G', 'G', 'G', 'G', 'G', 'G', 'G', 'G', 'G', 'G', 'G', 'G', 'G', 'G', 'G', 'G', 'G', 'G', 'G', 'G', 'M', 'G', 'G', 'G', 'G', 'G', 'G', 'M', 'G', 'G', 'G', 'G', 'G', 'G', 'G', 'G', 'G', 'G', 'G', 'G', 'M', 'G', 'G', 'G', 'G', 'G', 'G', 'G', 'G', 'G', 'G', 'G', 'G', 'G', 'G', 'G', 'G', 'G', 'M', 'A', 'A', 'A', 'A', 'A', 'A', 'A', 'A', 'A', 'A', 'A', 'A', 'A', 'A', 'A', 'A', 'A', 'A', 'G', 'M', 'G', 'M', 'G', 'G', 'G', 'G', 'G', 'G', 'G', 'G', 'M', 'A', 'A', 'A', 'A', 'A', 'A', 'A', 'A', 'A', 'A', 'A', 'A', 'A', 'G', 'G', 'G', 'M', 'G', 'G', 'G', 'M', 'G', 'G', 'M', 'G', 'G', 'G', 'G', 'G', 'G', 'G', 'G', 'M', 'G', 'G', 'G', 'G', 'M', 'G', 'G', 'G', 'G', 'M', 'G', 'M', 'G', 'G', 'M', 'G', 'G', 'G', 'G', 'M', 'G', 'G', 'G', 'G', 'G', 'M', 'A', 'A', 'A', 'A', 'A', 'A', 'A', 'A', 'A', 'A', 'A', 'A', 'A', 'A', 'A', 'G', 'M', 'G', 'G', 'M', 'G', 'G', 'G', 'G', 'G', 'G', 'G', 'G', 'G', 'G', 'G', 'G', 'G', 'G', 'M', 'G', 'G', 'G', 'M', 'G', 'G', 'G', 'G', 'G', 'G', 'G', 'M', 'G', 'G', 'G', 'G', 'G', 'G', 'M', 'A', 'A', 'A', 'A', 'A', 'A', 'A', 'A', 'A', 'A', 'A', 'A', 'A', 'A', 'A', 'A', 'A', 'A', 'A', 'A', 'A', 'G', 'G', 'G', 'G', 'G', 'G', 'G', 'G', 'G', 'G', 'G', 'G', 'M', 'G', 'M', 'G', 'G', 'G', 'M', 'A', 'A', 'A', 'A', 'A', 'A', 'A', 'A', 'A', 'A', 'A', 'A', 'A', 'A', 'A', 'A', 'A', 'A', 'A', 'A', 'A', 'A', 'A', 'A', 'A', 'A', 'A', 'G', 'G', 'G', 'M', 'G', 'G', 'G', 'G', 'G', 'M', 'G', 'G', 'G', 'M', 'G', 'G', 'G', 'G', 'G', 'G', 'G', 'G', 'M', 'G', 'G', 'M', 'A', 'A', 'A', 'A', 'A', 'A', 'A', 'A', 'A', 'A', 'A', 'A', 'G', 'G', 'G', 'G', 'G', 'G', 'G', 'M', 'G', 'G', 'G', 'M', 'G', 'G', 'G', 'G', 'G', 'G', 'G', 'G', 'G', 'M', 'G', 'G', 'G', 'G', 'M', 'G', 'G', 'M', 'G', 'G', 'G', 'G', 'G', 'G', 'G', 'M', 'A', 'A', 'A', 'A', 'A', 'A', 'A', 'A', 'A', 'A', 'A', 'G', 'G', 'G', 'G', 'G', 'G', 'G', 'G', 'M', 'A', 'A', 'A', 'A', 'A', 'A', 'A', 'A', 'G', 'G', 'G', 'M', 'G', 'M', 'G', 'M', 'G', 'G', 'G', 'G', 'G', 'G', 'G', 'M', 'G', 'G', 'G', 'G', 'M', 'G', 'G', 'M', 'G', 'G', 'G', 'G', 'G', 'M', 'G', 'G', 'G', 'G', 'G', 'G', 'G', 'G', 'G', 'M', 'G', 'G', 'G', 'G', 'G', 'M', 'G', 'G', 'G', 'G', 'G', 'M', 'G', 'M', 'A', 'A', 'G', 'G', 'G', 'M', 'G', 'G', 'M', 'G', 'G', 'G', 'G', 'G', 'G', 'G', 'M', 'G', 'G', 'G', 'G', 'G', 'G', 'G', 'G', 'G', 'G', 'G', 'G', 'G', 'G', 'G', 'G', 'M', 'G', 'M', 'A', 'A', 'A', 'A', 'A', 'G', 'G', 'G', 'M', 'G', 'G', 'G', 'G', 'M', 'G', 'G', 'G', 'G', 'G', 'G', 'G', 'G', 'G', 'M', 'G', 'G', 'G', 'G', 'G', 'G', 'M', 'A', 'A', 'G', 'G', 'G', 'G', 'G', 'G', 'G', 'G', 'M', 'G', 'G', 'M', 'A', 'A', 'A', 'A', 'A', 'A', 'A', 'A', 'A', 'A', 'A', 'A', 'A', 'A', 'A', 'A', 'G', 'G', 'M', 'A', 'A', 'A', 'A', 'A', 'A', 'A', 'A', 'A', 'A', 'G', 'M', 'G', 'G', 'G', 'G', 'G', 'G', 'G', 'M', 'G', 'G', 'M', 'G', 'G', 'G', 'G', 'G', 'G', 'G', 'G', 'G', 'G', 'G', 'G', 'M', 'G', 'G', 'G', 'M', 'G', 'M', 'G', 'M', 'A', 'A', 'A', 'G', 'G', 'G', 'G', 'G', 'M', 'G', 'G', 'G', 'M', 'G', 'G', 'G', 'G', 'M', 'G', 'M', 'G', 'G', 'G', 'G', 'G', 'M', 'G', 'G', 'G', 'G', 'G', 'G', 'G', 'G', 'G', 'G', 'G', 'G', 'G', 'G', 'G', 'G', 'G', 'G', 'G', 'G', 'G', 'G', 'G', 'M', 'G', 'G', 'G', 'M', 'G', 'G', 'G', 'G', 'G', 'M', 'G', 'G', 'G', 'M', 'A', 'A', 'G', 'G', 'G', 'M', 'A', 'A', 'A', 'A', 'G', 'G', 'G', 'G', 'G', 'M', 'G', 'G', 'G', 'G', 'G', 'G', 'G', 'G', 'G', 'M', 'G', 'G', 'G', 'M', 'G', 'G', 'G', 'G', 'G', 'M', 'G', 'G', 'G', 'G', 'G', 'G', 'G', 'G', 'G', 'M', 'G', 'M', 'A', 'A', 'A', 'A', 'A', 'A', 'A', 'A', 'G', 'G', 'G', 'G', 'G', 'G', 'G', 'M', 'G', 'G', 'M', 'G', 'M', 'G', 'G', 'G', 'G', 'G', 'G', 'M', 'G', 'G', 'G', 'G', 'M', 'G', 'G', 'G', 'G', 'G', 'G', 'G', 'M', 'G', 'G', 'G', 'G', 'M', 'G', 'G', 'G', 'G', 'G', 'G', 'G', 'G', 'G', 'G', 'G', 'M', 'A', 'A', 'A', 'G', 'G', 'G', 'M', 'G', 'G', 'G', 'G', 'M', 'A', 'A', 'A', 'A', 'A', 'A', 'A', 'A', 'A', 'A', 'A', 'A', 'A', 'A', 'A', 'A', 'A', 'A', 'G', 'G', 'G', 'G', 'G', 'G', 'M', 'G', 'G', 'G', 'M', 'G', 'G', 'M', 'A', 'A', 'A', 'A', 'A', 'A', 'G', 'G', 'G', 'G', 'M', 'G', 'G', 'M', 'G', 'G', 'G', 'M', 'G', 'G', 'G', 'M', 'G', 'G', 'G', 'G', 'G', 'G', 'G', 'G', 'G', 'M', 'G', 'M', 'G', 'G', 'G', 'G', 'G', 'G', 'G', 'G', 'M', 'A', 'A', 'A', 'A', 'G', 'M', 'G', 'G', 'M', 'G', 'G', 'G', 'G', 'G', 'G', 'G', 'G', 'G', 'G', 'G', 'M', 'G', 'G', 'G', 'G', 'G', 'G', 'M', 'G', 'G', 'G', 'G', 'G', 'M', 'G', 'G', 'G', 'G', 'G', 'M', 'G', 'G', 'G', 'G', 'G', 'M', 'G', 'G', 'G', 'G', 'G', 'G', 'G', 'G', 'G', 'G', 'G', 'G', 'G', 'G', 'M', 'G', 'G', 'M', 'G', 'G', 'G', 'M', 'G', 'G', 'G', 'G', 'G', 'G', 'G', 'G', 'G', 'M', 'G', 'G', 'M', 'G', 'G', 'G', 'G', 'G', 'M', 'A', 'A', 'A', 'A', 'G', 'G', 'G', 'M', 'G', 'G', 'M', 'G', 'G', 'G', 'M', 'G', 'G', 'G', 'M', 'G', 'G', 'M', 'G', 'G', 'G', 'G', 'G', 'G', 'G', 'G', 'G', 'M', 'G', 'G', 'G', 'M', 'G', 'G', 'G', 'M', 'G', 'G', 'G', 'G', 'G', 'M', 'G', 'G', 'G', 'G', 'G', 'G', 'G', 'G', 'G', 'G', 'G', 'G', 'G', 'G', 'G', 'G', 'M', 'G', 'G', 'G', 'G', 'M', 'G', 'M', 'G', 'G', 'M', 'A', 'A', 'A', 'A', 'A', 'A', 'G', 'G', 'G', 'G', 'G', 'G', 'G', 'G', 'G', 'G', 'G', 'G', 'M', 'G', 'G', 'G', 'G', 'M', 'G', 'M', 'G', 'G', 'G', 'G', 'G', 'G', 'G', 'G', 'G', 'M', 'G', 'G', 'G', 'G', 'G', 'G', 'M', 'G', 'M', 'G', 'G', 'G', 'M', 'G', 'G', 'G', 'G', 'G', 'G', 'G', 'G', 'G', 'G', 'G', 'M', 'A', 'A', 'A', 'A', 'A', 'A', 'A', 'A', 'A', 'A', 'A', 'A', 'A', 'A', 'A', 'A', 'A', 'A', 'A', 'A', 'A', 'A', 'A', 'A', 'A', 'A', 'A', 'A', 'A', 'A', 'A', 'A', 'A', 'A', 'A', 'A', 'A', 'A', 'A', 'A', 'A', 'G', 'M', 'G', 'G', 'G', 'G', 'G', 'G', 'G', 'G', 'G', 'G', 'G', 'G', 'G', 'G', 'G', 'G', 'M', 'A', 'A', 'A', 'A', 'A', 'A', 'A', 'A', 'A', 'A', 'A', 'A', 'G', 'G', 'M', 'G', 'G', 'G', 'M', 'G', 'M', 'G', 'M', 'G', 'G', 'G', 'G', 'G', 'G', 'G', 'G', 'G', 'G', 'G', 'G', 'G', 'G', 'G', 'G', 'G', 'M', 'A', 'A', 'A', 'A', 'A', 'A', 'G', 'M', 'A', 'A', 'A', 'A', 'A', 'A', 'A', 'A', 'A', 'A', 'A', 'A', 'A', 'G', 'M', 'G', 'G', 'G', 'G', 'G', 'G', 'G', 'G', 'G', 'G', 'G', 'G', 'G', 'G', 'M', 'G', 'G', 'M', 'G', 'G', 'M', 'G', 'G', 'G', 'G', 'G', 'M', 'G', 'G', 'G', 'G', 'G', 'G', 'G', 'G', 'M', 'G', 'G', 'G', 'G', 'G', 'M', 'G', 'G', 'G', 'M', 'G', 'G', 'M', 'A', 'A', 'A', 'G', 'G', 'G', 'G', 'M', 'G', 'G', 'M', 'G', 'G', 'G', 'M', 'G', 'G', 'G', 'G', 'G', 'G', 'M', 'G', 'M', 'G', 'G', 'G', 'G', 'M', 'G', 'G', 'M', 'G', 'M', 'G', 'G', 'G', 'G', 'G', 'M', 'G', 'G', 'G', 'G', 'G', 'G', 'G', 'G', 'M', 'G', 'M', 'G', 'M', 'G', 'G', 'M', 'A', 'A', 'A', 'A', 'A', 'A', 'A', 'A', 'A', 'A', 'A', 'A', 'A', 'A', 'G', 'M', 'G', 'G', 'G', 'G', 'G', 'M', 'G', 'G', 'G', 'G', 'M', 'G', 'G', 'M', 'G', 'G', 'G', 'G', 'G', 'G', 'G', 'G', 'G', 'G', 'G', 'G', 'G', 'G', 'G', 'G', 'M', 'G', 'M', 'G', 'M', 'G', 'G', 'M', 'A', 'A', 'A', 'A', 'A', 'A', 'A', 'A', 'A', 'A', 'A', 'G', 'G', 'G', 'G', 'G', 'G', 'G', 'G', 'G', 'G', 'M', 'G', 'G', 'M', 'G', 'G', 'M', 'A', 'A', 'A', 'G', 'G', 'G', 'G', 'G', 'G', 'G', 'G', 'G', 'G', 'G', 'G', 'G', 'G', 'M', 'A', 'G', 'G', 'G', 'G', 'G', 'G', 'G', 'G', 'G', 'G', 'G', 'G', 'G', 'G', 'M', 'G', 'G', 'G', 'G', 'G', 'G', 'M', 'G', 'G', 'G', 'G', 'G', 'G', 'G', 'G', 'M', 'G', 'G', 'G', 'G', 'G', 'G', 'G', 'G', 'M', 'G', 'G', 'M', 'G', 'G', 'G', 'G', 'G', 'G', 'G', 'M', 'A', 'A', 'A', 'G', 'G', 'G', 'G', 'G', 'G', 'G', 'G', 'M', 'G', 'G', 'G', 'G', 'G', 'G', 'G', 'M', 'G', 'G', 'G', 'G', 'G', 'G', 'G']\n"
          ]
        },
        {
          "output_type": "execute_result",
          "data": {
            "text/plain": [
              "<matplotlib.axes._subplots.AxesSubplot at 0x7fc818604b90>"
            ]
          },
          "metadata": {},
          "execution_count": 60
        },
        {
          "output_type": "display_data",
          "data": {
            "image/png": "[encoded data removed]",
            "text/plain": [
              "<Figure size 432x288 with 1 Axes>"
            ]
          },
          "metadata": {
            "needs_background": "light"
          }
        }
      ]
    },
    {
      "cell_type": "markdown",
      "source": [
        "Exercise C:2"
      ],
      "metadata": {
        "id": "Gy0CWoCB1t9I"
      }
    },
    {
      "cell_type": "code",
      "source": [
        "# The 4 states\n",
        "states = [\"S0\",\"S1\",\"S2\", \"S3\", \"S4\"]\n",
        "\n",
        "# Possible sequences of events\n",
        "transitionName = [[\"S0S0\",\"S0S1\",\"S0S2\", \"S0S3\", \"S0S4\"],[\"S1S0\",\"S1S1\",\"S1S2\", \"S1S3\", \"S1S4\"],[\"S2S0\",\"S2S1\",\"S2S2\", \"S2S3\", \"S2S4\"],[\"S3S0\",\"S3S1\",\"S3S2\", \"S3S3\", \"S3S4\"],[\"S4S0\",\"S4S1\",\"S4S2\", \"S4S3\", \"S4S4\"]]\n",
        "\n",
        "# Probabilities matrix (transition matrix)\n",
        "transitionMatrix = [[0,1,0,0,0],[0,0.9,0.1,0,0],[0,0,0,1,0],[0,0,0,0.9,0.1]]\n",
        "\n",
        "# A function that implements the Markov model to forecast the states\n",
        "def states(x):\n",
        "    # Choose the starting state\n",
        "    starting_state = \"S0\"\n",
        "    print(\"Start state: \" + starting_state)\n",
        "    # Shall store the sequence of states taken. So, this only has the starting state for now.\n",
        "    Listofstatus = [starting_state]\n",
        "    i = 0\n",
        "    # To calculate the probability of the activityList\n",
        "    prob = 1\n",
        "    while i != x:\n",
        "        if starting_state == \"S0\":\n",
        "            change = np.random.choice(transitionName[0],replace=True,p=transitionMatrix[0])\n",
        "            if change == \"S0S1\":\n",
        "                prob = prob * 1\n",
        "                Listofstatus.append(\"S1\")\n",
        "                starting_state = \"S1\"\n",
        "                pass\n",
        "            elif change in (\"S0S0\",\"S0S2\", \"S0S3\", \"S0S4\"):\n",
        "                prob = prob * 0\n",
        "                starting_state = \"stop\"\n",
        "                Listofstatus.append(\"stop\")\n",
        "        elif starting_state == \"S1\":\n",
        "            change = np.random.choice(transitionName[1],replace=True,p=transitionMatrix[1])\n",
        "            if change == \"S1S1\":\n",
        "                prob = prob * 0.9\n",
        "                Listofstatus.append(\"S1\")\n",
        "                starting_state = \"S1\"\n",
        "                pass\n",
        "            elif change == \"S1S2\":\n",
        "                prob = prob * 0.1\n",
        "                starting_state = \"S2\"\n",
        "                Listofstatus.append(\"S2\")\n",
        "                starting_state = \"S2\"\n",
        "        elif starting_state == \"S2\":\n",
        "            change = np.random.choice(transitionName[2],replace=True,p=transitionMatrix[2])\n",
        "            if change == \"S2S3\":\n",
        "                prob = prob * 1\n",
        "                Listofstatus.append(\"S3\")\n",
        "                starting_state = \"S3\"\n",
        "                pass\n",
        "        elif starting_state == \"S3\":\n",
        "            change = np.random.choice(transitionName[3],replace=True,p=transitionMatrix[3])\n",
        "            if change == \"S3S3\":\n",
        "                prob = prob * 0.9\n",
        "                Listofstatus.append(\"S3\")\n",
        "                starting_state = \"S3\"\n",
        "                pass\n",
        "            elif change == \"S3S4\":\n",
        "                prob = prob * 0.1\n",
        "                starting_state = \"S4\"\n",
        "                Listofstatus.append(\"S4\")\n",
        "                starting_state = \"S4\"\n",
        "        i += 1\n",
        "    return Listofstatus\n",
        "\n",
        "states(10)"
      ],
      "metadata": {
        "colab": {
          "base_uri": "https://localhost:8080/"
        },
        "id": "W0FvLXK9sChn",
        "outputId": "e5ec5145-f116-4075-c131-9ffc9474acea"
      },
      "execution_count": null,
      "outputs": [
        {
          "output_type": "stream",
          "name": "stdout",
          "text": [
            "Start state: S0\n"
          ]
        },
        {
          "output_type": "execute_result",
          "data": {
            "text/plain": [
              "['S0', 'S1', 'S2', 'S3', 'S3', 'S4']"
            ]
          },
          "metadata": {},
          "execution_count": 61
        }
      ]
    },
    {
      "cell_type": "markdown",
      "source": [
        "Exercise C:3"
      ],
      "metadata": {
        "id": "KtTYaMNd1zyJ"
      }
    },
    {
      "cell_type": "code",
      "source": [
        "# The 4 states\n",
        "states = [\"S0\",\"S1\",\"S2\", \"S3\", \"S4\"]\n",
        "\n",
        "# Possible sequences of events\n",
        "transitionName = [[\"S0S0\",\"S0S1\",\"S0S2\", \"S0S3\", \"S0S4\"],[\"S1S0\",\"S1S1\",\"S1S2\", \"S1S3\", \"S1S4\"],[\"S2S0\",\"S2S1\",\"S2S2\", \"S2S3\", \"S2S4\"],[\"S3S0\",\"S3S1\",\"S3S2\", \"S3S3\", \"S3S4\"],[\"S4S0\",\"S4S1\",\"S4S2\", \"S4S3\", \"S4S4\"]]\n",
        "\n",
        "# Probabilities matrix (transition matrix)\n",
        "transitionMatrix = [[0,1,0,0,0],[0,0.9,0.1,0,0],[0,0,0,1,0],[0,0,0,0.9,0.1]]\n",
        "\n",
        "SymbolName= [\"A\", \"C\", \"G\", \"T\"]\n",
        "SymbolProbS1= [0.25,0.25,0.25,0.25]\n",
        "SymbolProbS2= [0.05,0,0.95,0]\n",
        "SymbolProbS3= [0.4,0.1,0.1,0.4]\n",
        "\n",
        "\n",
        "# A function that implements the Markov model to forecast the states\n",
        "def states(x):\n",
        "    # Choose the starting state\n",
        "    starting_state = \"S0\"\n",
        "    print(\"Start state: \" + starting_state)\n",
        "    # Shall store the sequence of states taken. So, this only has the starting state for now.\n",
        "    Listofstatus = [starting_state]\n",
        "    Listofsymbol = []\n",
        "    i = 0\n",
        "    # To calculate the probability of the activityList\n",
        "    prob = 1\n",
        "    while i != x:\n",
        "        if starting_state == \"S0\":\n",
        "            change = np.random.choice(transitionName[0],replace=True,p=transitionMatrix[0])\n",
        "            if change == \"S0S1\":\n",
        "                prob = prob * 1\n",
        "                Listofstatus.append(\"S1\")\n",
        "                starting_state = \"S1\"\n",
        "                pass\n",
        "            elif change in (\"S0S0\",\"S0S2\", \"S0S3\", \"S0S4\"):\n",
        "                prob = prob * 0\n",
        "                starting_state = \"stop\"\n",
        "                Listofstatus.append(\"stop\")\n",
        "        elif starting_state == \"S1\":\n",
        "            change = np.random.choice(transitionName[1],replace=True,p=transitionMatrix[1])\n",
        "            symbol_result = np.random.choice(SymbolName,replace=True,p=SymbolProbS1)\n",
        "            Listofsymbol.append(symbol_result)\n",
        "            if change == \"S1S1\":\n",
        "                prob = prob * 0.9\n",
        "                Listofstatus.append(\"S1\")\n",
        "                starting_state = \"S1\"\n",
        "                pass\n",
        "            elif change == \"S1S2\":\n",
        "                prob = prob * 0.1\n",
        "                starting_state = \"S2\"\n",
        "                Listofstatus.append(\"S2\")\n",
        "                starting_state = \"S2\"\n",
        "        elif starting_state == \"S2\":\n",
        "            change = np.random.choice(transitionName[2],replace=True,p=transitionMatrix[2])\n",
        "            symbol_result = np.random.choice(SymbolName,replace=True,p=SymbolProbS2)\n",
        "            Listofsymbol.append(symbol_result)\n",
        "            if change == \"S2S3\":\n",
        "                prob = prob * 1\n",
        "                Listofstatus.append(\"S3\")\n",
        "                starting_state = \"S3\"\n",
        "                pass\n",
        "        elif starting_state == \"S3\":\n",
        "            change = np.random.choice(transitionName[3],replace=True,p=transitionMatrix[3])\n",
        "            symbol_result = np.random.choice(SymbolName,replace=True,p=SymbolProbS3)\n",
        "            Listofsymbol.append(symbol_result)\n",
        "            if change == \"S3S3\":\n",
        "                prob = prob * 0.9\n",
        "                Listofstatus.append(\"S3\")\n",
        "                starting_state = \"S3\"\n",
        "                pass\n",
        "            elif change == \"S3S4\":\n",
        "                prob = prob * 0.1\n",
        "                starting_state = \"S4\"\n",
        "                Listofstatus.append(\"S4\")\n",
        "                starting_state = \"S4\"\n",
        "        i += 1\n",
        "    return Listofsymbol\n",
        "\n",
        "states(30)"
      ],
      "metadata": {
        "colab": {
          "base_uri": "https://localhost:8080/"
        },
        "id": "4nCnmv13sH5H",
        "outputId": "de7d67c0-6d1b-4d1d-c312-e4e229f3e42c"
      },
      "execution_count": null,
      "outputs": [
        {
          "output_type": "stream",
          "name": "stdout",
          "text": [
            "Start state: S0\n"
          ]
        },
        {
          "output_type": "execute_result",
          "data": {
            "text/plain": [
              "['A', 'C', 'C', 'C', 'G', 'G', 'A', 'T']"
            ]
          },
          "metadata": {},
          "execution_count": 62
        }
      ]
    },
    {
      "cell_type": "markdown",
      "source": [
        "Part D"
      ],
      "metadata": {
        "id": "eOp1acDx1Sd7"
      }
    },
    {
      "cell_type": "markdown",
      "source": [
        "Exercise D:1"
      ],
      "metadata": {
        "id": "MPMDV5pM1UK7"
      }
    },
    {
      "cell_type": "code",
      "source": [
        "N = 10\n",
        "x = np.random.uniform(0, 1, size=N)\n",
        "y = 2*x + 4\n",
        "plt.plot(x, y, 'r*')\n",
        "plt.title(\"Linear relationship without noise\")\n",
        "plt.show()"
      ],
      "metadata": {
        "colab": {
          "base_uri": "https://localhost:8080/",
          "height": 281
        },
        "id": "5XRgUrHL1WUr",
        "outputId": "6dc26f76-9886-4e36-92ed-95f0e4903c32"
      },
      "execution_count": null,
      "outputs": [
        {
          "output_type": "display_data",
          "data": {
            "image/png": "[encoded data removed]",
            "text/plain": [
              "<Figure size 432x288 with 1 Axes>"
            ]
          },
          "metadata": {
            "needs_background": "light"
          }
        }
      ]
    },
    {
      "cell_type": "code",
      "source": [
        "x_obs = []\n",
        "for n in range(len(x)):\n",
        "  x_obs.append(x[n] + np.random.normal(0, 0.3))\n",
        "y_obs = []\n",
        "for n in range(len(y)):\n",
        "  y_obs.append(y[n] + np.random.normal(0, 0.3))\n",
        "\n",
        "plt.plot(x_obs, y_obs, 'r*')\n",
        "plt.title(\"Linear relationship with noise\")\n",
        "plt.show()"
      ],
      "metadata": {
        "colab": {
          "base_uri": "https://localhost:8080/",
          "height": 281
        },
        "id": "YOABb7yZ157t",
        "outputId": "52e67f86-e9b5-4b6b-f955-561a7b89b179"
      },
      "execution_count": null,
      "outputs": [
        {
          "output_type": "display_data",
          "data": {
            "image/png": "[encoded data removed]",
            "text/plain": [
              "<Figure size 432x288 with 1 Axes>"
            ]
          },
          "metadata": {
            "needs_background": "light"
          }
        }
      ]
    },
    {
      "cell_type": "markdown",
      "source": [
        "Exercise D:2"
      ],
      "metadata": {
        "id": "La9ikZDH8jgp"
      }
    },
    {
      "cell_type": "code",
      "source": [
        "N = 10\n",
        "mean = [0, 0, 0]\n",
        "cov = [[0.25, 0, 0], [0, 0.25, 0], [0, 0, 0.25]]\n",
        "X = np.asarray(np.random.multivariate_normal(mean, cov, size=N))\n",
        "x1 = X[:, 0]\n",
        "x2 = X[:, 1]\n",
        "x3 = X[:, 2]\n",
        "y = 0.3*x1 + 0.2*x2 + 0.5*x3\n",
        "print(y)"
      ],
      "metadata": {
        "colab": {
          "base_uri": "https://localhost:8080/"
        },
        "id": "DD4MewuK8mY4",
        "outputId": "654db12e-54d2-42f7-d354-367327169d31"
      },
      "execution_count": null,
      "outputs": [
        {
          "output_type": "stream",
          "name": "stdout",
          "text": [
            "[-0.30596455 -0.16754789  0.03627375 -0.53889578 -0.45494831 -0.09157768\n",
            "  0.25768921  0.24366126 -0.13229911 -0.17765567]\n"
          ]
        }
      ]
    },
    {
      "cell_type": "code",
      "source": [
        "X_obs = []\n",
        "for n in range(len(X)):\n",
        "  X_obs.append(X[n] + np.random.multivariate_normal(mean, cov))\n",
        "y_obs = []\n",
        "for n in range(len(y)):\n",
        "  y_obs.append(y[n] + np.random.normal(0, 0.3))\n",
        "\n",
        "mean_y = np.mean(y_obs)\n",
        "sigma_y = np.std(y_obs)\n",
        "print(f\"mean_y = {mean_y}\")\n",
        "print(f\"sigma_y = {sigma_y}\")\n",
        "print(f\"mean_y/sigma_y = {mean_y/sigma_y}\")"
      ],
      "metadata": {
        "colab": {
          "base_uri": "https://localhost:8080/"
        },
        "id": "LK9velJD9ZlB",
        "outputId": "7c5a2f7e-a86d-419e-9307-ccbbb3b04713"
      },
      "execution_count": null,
      "outputs": [
        {
          "output_type": "stream",
          "name": "stdout",
          "text": [
            "mean_y = -0.1418655974605775\n",
            "sigma_y = 0.21464243259289528\n",
            "mean_y/sigma_y = -0.6609391989590845\n"
          ]
        }
      ]
    },
    {
      "cell_type": "markdown",
      "source": [
        "It is attractive to have a return with a high mean and a low variance."
      ],
      "metadata": {
        "id": "cGe16_0j_o4q"
      }
    }
  ]
}