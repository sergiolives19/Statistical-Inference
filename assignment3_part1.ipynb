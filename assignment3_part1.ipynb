{
  "cells": [
    {
      "cell_type": "markdown",
      "metadata": {
        "id": "iAgnLV8j5w-o"
      },
      "source": [
        "PART A: RESAMPLING BASED CONFIDENCE INTERVALS"
      ]
    },
    {
      "cell_type": "markdown",
      "metadata": {
        "id": "WVn4svuq8PUa"
      },
      "source": [
        "Exercise A:1 - Percentile Bootstrap Intervals for the mean and the standard deviation"
      ]
    },
    {
      "cell_type": "markdown",
      "source": [
        "a)"
      ],
      "metadata": {
        "id": "zsEBSUGQlKeN"
      }
    },
    {
      "cell_type": "code",
      "execution_count": 24,
      "metadata": {
        "colab": {
          "base_uri": "https://localhost:8080/"
        },
        "id": "uQH8qkzC5-44",
        "outputId": "dc36b7c6-f8fa-492d-8580-5928e1ef6ff1"
      },
      "outputs": [
        {
          "output_type": "stream",
          "name": "stdout",
          "text": [
            "Sample values: [ 6.20149862 10.84026558  2.14720719  7.11653886  8.41718247 10.70260651\n",
            "  6.42279398  6.06379579  3.00382083  2.66045729  5.97916929  4.77516467\n",
            "  2.45873292  6.98975127  5.19440003  7.26035512  2.27884358  2.00534916\n",
            "  5.36688742  1.19149938]\n"
          ]
        }
      ],
      "source": [
        "import numpy as np\n",
        "import statistics\n",
        "\n",
        "mu = 5\n",
        "sigma = 2.7\n",
        "X_20 = np.random.normal(loc=mu, scale=sigma, size=20)\n",
        "print(f'Sample values: {X_20}')"
      ]
    },
    {
      "cell_type": "markdown",
      "source": [
        "b)"
      ],
      "metadata": {
        "id": "conBwZKF2YaC"
      }
    },
    {
      "cell_type": "code",
      "execution_count": 25,
      "metadata": {
        "colab": {
          "base_uri": "https://localhost:8080/"
        },
        "id": "EPg27stV6hHg",
        "outputId": "b84f5e4f-6a95-410d-8d1f-471a7695cd79"
      },
      "outputs": [
        {
          "output_type": "stream",
          "name": "stdout",
          "text": [
            "Sample mean: 5.353815997998548\n",
            "Sample standard deviation: 2.8103491043665123\n"
          ]
        }
      ],
      "source": [
        "print(f'Sample mean: {statistics.mean(X_20)}')\n",
        "print(f'Sample standard deviation: {statistics.stdev(X_20)}')"
      ]
    },
    {
      "cell_type": "markdown",
      "source": [
        "c)"
      ],
      "metadata": {
        "id": "F3EDA9dRlNId"
      }
    },
    {
      "cell_type": "code",
      "source": [
        "!pip install scipy --upgrade\n",
        "import scipy\n",
        "print(scipy.__version__) #reset execution environment to get the upgraded version"
      ],
      "metadata": {
        "colab": {
          "base_uri": "https://localhost:8080/"
        },
        "id": "Rjmhwm-zkn7f",
        "outputId": "e66c71e3-2dfd-4de1-c73f-9d1dc5fc98cb"
      },
      "execution_count": 26,
      "outputs": [
        {
          "output_type": "stream",
          "name": "stdout",
          "text": [
            "Requirement already satisfied: scipy in /usr/local/lib/python3.7/dist-packages (1.7.3)\n",
            "Requirement already satisfied: numpy<1.23.0,>=1.16.5 in /usr/local/lib/python3.7/dist-packages (from scipy) (1.19.5)\n",
            "1.7.3\n"
          ]
        }
      ]
    },
    {
      "cell_type": "code",
      "execution_count": 27,
      "metadata": {
        "colab": {
          "base_uri": "https://localhost:8080/"
        },
        "id": "OGEgIPcM9Zew",
        "outputId": "1a5ae682-c081-4a59-e17c-4479c34fe4ef"
      },
      "outputs": [
        {
          "output_type": "stream",
          "name": "stdout",
          "text": [
            "2,5% percentile of X_20: 4.216911986634578\n",
            "97,5% percentile of X_20: 6.649501629149555\n"
          ]
        }
      ],
      "source": [
        "from scipy.stats import bootstrap\n",
        "bootstrap_20 = bootstrap((X_20,), np.mean, confidence_level=0.95)\n",
        "low_mean_20, high_mean_20 = bootstrap_20.confidence_interval\n",
        "print(f'2,5% percentile of X_20: {low_mean_20}')\n",
        "print(f'97,5% percentile of X_20: {high_mean_20}')"
      ]
    },
    {
      "cell_type": "markdown",
      "source": [
        "d)"
      ],
      "metadata": {
        "id": "yivcC7sVlP9d"
      }
    },
    {
      "cell_type": "code",
      "execution_count": 28,
      "metadata": {
        "colab": {
          "base_uri": "https://localhost:8080/"
        },
        "id": "bgFlyi-wAtuR",
        "outputId": "2a82dbcc-88ee-4bac-8743-7a41ee89a4eb"
      },
      "outputs": [
        {
          "output_type": "stream",
          "name": "stdout",
          "text": [
            "Sample mean: 5.025735171428138\n",
            "Sample standard deviation: 2.758543646792621\n",
            "2,5% percentile of X_2000: 4.9013614098112015\n",
            "97,5% percentile of X_2000: 5.145681073528347\n"
          ]
        }
      ],
      "source": [
        "X_2000 = np.random.normal(loc=5, scale=2.7, size=2000)\n",
        "print(f'Sample mean: {statistics.mean(X_2000)}')\n",
        "print(f'Sample standard deviation: {statistics.stdev(X_2000)}')\n",
        "\n",
        "bootstrap_2000 = bootstrap((X_2000,), np.mean, confidence_level=0.95)\n",
        "low_mean_2000, high_mean_2000 = bootstrap_2000.confidence_interval\n",
        "print(f'2,5% percentile of X_2000: {low_mean_2000}')\n",
        "print(f'97,5% percentile of X_2000: {high_mean_2000}')"
      ]
    },
    {
      "cell_type": "markdown",
      "metadata": {
        "id": "agA1mlZuEvza"
      },
      "source": [
        "In this case we have a bigger sample so the there is more certainty in the results. Therefore, the confidence interval is narrower."
      ]
    },
    {
      "cell_type": "markdown",
      "source": [
        "e)"
      ],
      "metadata": {
        "id": "wUp9e522lZS_"
      }
    },
    {
      "cell_type": "code",
      "execution_count": 29,
      "metadata": {
        "colab": {
          "base_uri": "https://localhost:8080/"
        },
        "id": "Spha3pPQFpUQ",
        "outputId": "8b35cbfb-7189-4d47-90a4-c5e3fae3656e"
      },
      "outputs": [
        {
          "output_type": "stream",
          "name": "stdout",
          "text": [
            "2,5% percentile of X_20: 2.1287277520143437\n",
            "97,5% percentile of X_20: 3.5192236462735407\n",
            "2,5% percentile of X_2000: 2.674530652350718\n",
            "97,5% percentile of X_2000: 2.850669163225183\n"
          ]
        }
      ],
      "source": [
        "#bootstrap for 20 data points\n",
        "bootstrap_20 = bootstrap((X_20,), np.std, confidence_level=0.95)\n",
        "low_std_20, high_std_20 = bootstrap_20.confidence_interval\n",
        "print(f'2,5% percentile of X_20: {low_std_20}')\n",
        "print(f'97,5% percentile of X_20: {high_std_20}')\n",
        "\n",
        "#bootstrap for 2000 data points\n",
        "bootstrap_2000 = bootstrap((X_2000,), np.std, confidence_level=0.95)\n",
        "low_std_2000, high_std_2000 = bootstrap_2000.confidence_interval\n",
        "print(f'2,5% percentile of X_2000: {low_std_2000}')\n",
        "print(f'97,5% percentile of X_2000: {high_std_2000}')"
      ]
    },
    {
      "cell_type": "markdown",
      "source": [
        "f)"
      ],
      "metadata": {
        "id": "rlX0dZfjla5U"
      }
    },
    {
      "cell_type": "code",
      "execution_count": 30,
      "metadata": {
        "colab": {
          "base_uri": "https://localhost:8080/"
        },
        "id": "s0LuzasiHLXW",
        "outputId": "4a311461-cb33-4830-96e6-4c6fb59ba139"
      },
      "outputs": [
        {
          "output_type": "stream",
          "name": "stdout",
          "text": [
            "Is mean inside confidence interval for bootstrap 20? True\n",
            "Is standard deviation inside confidence interval for bootstrap 20? True\n",
            "Is mean inside confidence interval for bootstrap 2000? True\n",
            "Is standard deviation inside confidence interval for bootstrap 2000? True\n"
          ]
        }
      ],
      "source": [
        "print(f'Is mean inside confidence interval for bootstrap 20? {low_mean_20<mu and mu<high_mean_20}')\n",
        "print(f'Is standard deviation inside confidence interval for bootstrap 20? {low_std_20<sigma and sigma<high_std_20}')\n",
        "\n",
        "print(f'Is mean inside confidence interval for bootstrap 2000? {low_mean_2000<mu and mu<high_mean_2000}')\n",
        "print(f'Is standard deviation inside confidence interval for bootstrap 2000? {low_std_2000<sigma and sigma<high_std_2000}')"
      ]
    },
    {
      "cell_type": "markdown",
      "metadata": {
        "id": "1GRSW5tvLJ7D"
      },
      "source": [
        "We should get True for each interval 95% of the times that we calculate the sample and its bootstrap. "
      ]
    },
    {
      "cell_type": "markdown",
      "metadata": {
        "id": "fcBexvknNJZH"
      },
      "source": [
        "Exercise A:2 - Percentile Bootstrap Intervals for Correlations"
      ]
    },
    {
      "cell_type": "markdown",
      "metadata": {
        "id": "f_LW9UXWNLrO"
      },
      "source": [
        "a)"
      ]
    },
    {
      "cell_type": "code",
      "execution_count": 31,
      "metadata": {
        "colab": {
          "base_uri": "https://localhost:8080/",
          "height": 265
        },
        "id": "rBlElpJNNOW-",
        "outputId": "25e91803-5a92-4734-d6ca-752e59d0a4f5"
      },
      "outputs": [
        {
          "output_type": "display_data",
          "data": {
            "image/png": "[encoded data removed]",
            "text/plain": [
              "<Figure size 432x288 with 1 Axes>"
            ]
          },
          "metadata": {
            "needs_background": "light"
          }
        }
      ],
      "source": [
        "import matplotlib.pyplot as plt\n",
        "X = [13.2, 8.2, 10.9, 14.3, 10.7, 6.6, 9.5, 10.8, 8.8, 13.3]\n",
        "Y = [4.0, 8.8, 11.2, 14.2, 11.8, 6.4, 9.8, 11.3, 9.3, 13.6]\n",
        "plt.scatter(X, Y)\n",
        "plt.show()"
      ]
    },
    {
      "cell_type": "markdown",
      "metadata": {
        "id": "YbQIZz7aOLeo"
      },
      "source": [
        "There seems to be a correlation between X and Y. All data seems to follow a linear trend with the exception of one point which is an outlier."
      ]
    },
    {
      "cell_type": "markdown",
      "metadata": {
        "id": "cVD2He5pO6Mg"
      },
      "source": [
        "b)"
      ]
    },
    {
      "cell_type": "code",
      "execution_count": 32,
      "metadata": {
        "colab": {
          "base_uri": "https://localhost:8080/"
        },
        "id": "Uf9fcmbvO7gY",
        "outputId": "ba28eb99-b08f-41ce-b087-d2dacc9787f3"
      },
      "outputs": [
        {
          "output_type": "stream",
          "name": "stdout",
          "text": [
            "Pearsons correlation coefficent: 0.42366691998681266\n"
          ]
        }
      ],
      "source": [
        "from scipy.stats import pearsonr\n",
        "corr = pearsonr(X, Y)\n",
        "print(f'Pearsons correlation coefficent: {corr[0]}')"
      ]
    },
    {
      "cell_type": "markdown",
      "metadata": {
        "id": "sf77EJFvPsEV"
      },
      "source": [
        "This coefficient indicates that there is a very small correlation between two variables. That might be due to the small amount of data. The outlier has a strong effect on the correlation coefficient."
      ]
    },
    {
      "cell_type": "markdown",
      "source": [
        "c)"
      ],
      "metadata": {
        "id": "uBaL3GRpllw1"
      }
    },
    {
      "cell_type": "code",
      "execution_count": 33,
      "metadata": {
        "colab": {
          "base_uri": "https://localhost:8080/",
          "height": 300
        },
        "id": "lVpAXzKuRGeI",
        "outputId": "b2cdd140-913a-4cbb-ce7c-11ebc81dcb5d"
      },
      "outputs": [
        {
          "output_type": "display_data",
          "data": {
            "image/png": "[encoded data removed]",
            "text/plain": [
              "<Figure size 432x288 with 1 Axes>"
            ]
          },
          "metadata": {
            "needs_background": "light"
          }
        },
        {
          "output_type": "stream",
          "name": "stdout",
          "text": [
            "95% confidence interval: [-0.4373967958144981, 0.9966390244102837]\n",
            "Is zero inside the interval? True\n"
          ]
        }
      ],
      "source": [
        "n_iter = 1000\n",
        "corr_resample = []\n",
        "for i in range(n_iter):\n",
        "  X_resample = np.random.choice(X, size=10, p=None, replace=True)\n",
        "  Y_resample = []\n",
        "  for x in X_resample:\n",
        "    ind = X.index(x)\n",
        "    Y_resample.append(Y[ind])\n",
        "  corr = pearsonr(X_resample, Y_resample)\n",
        "  corr_resample.append(corr[0])\n",
        "\n",
        "plt.hist(corr_resample, bins=15)\n",
        "plt.show()\n",
        "\n",
        "percentiles = np.percentile(corr_resample, [2.5, 97.5])\n",
        "print(f'95% confidence interval: [{percentiles[0]}, {percentiles[1]}]')\n",
        "print(f'Is zero inside the interval? {percentiles[0]<0 and 0<percentiles[1]}')"
      ]
    },
    {
      "cell_type": "markdown",
      "source": [
        "There is a normal distribution around value 0,42, which is the correlation of the original values of X and Y. Additionally, there are a lot of instances close to 1, in these cases the outlier is not taken in the resample."
      ],
      "metadata": {
        "id": "VLYxXd66YeCy"
      }
    },
    {
      "cell_type": "markdown",
      "source": [
        "Exercise A:3 - Bootstrap confidence interval for an unknown fraction"
      ],
      "metadata": {
        "id": "dtkadOdmlIwO"
      }
    },
    {
      "cell_type": "code",
      "source": [
        "np_values = np.asarray(['Red', 'White'])\n",
        "np_counts = np.asarray([14, 46])\n",
        "np_urn = np.repeat(np_values, np_counts)\n",
        "\n",
        "n_iter = int(1e4)\n",
        "proportions = []\n",
        "for i in range(n_iter):\n",
        "  np_draw_with_replacement = list(np.random.choice(np_urn, size=60, p=None, replace=True))\n",
        "  proportions.append(np_draw_with_replacement.count('Red')/len(np_draw_with_replacement))\n",
        "\n",
        "import seaborn as sb\n",
        "fig = sb.histplot(data=proportions)\n",
        "plt.xlabel('Fraction of cracks')\n",
        "plt.ylabel('Count')\n",
        "plt.show()\n",
        "\n",
        "percentiles = np.percentile(proportions, [2.5, 97.5])\n",
        "print(f'95% confidence interval: [{percentiles[0]}, {percentiles[1]}]')"
      ],
      "metadata": {
        "id": "dPwgarV8l8Lt",
        "colab": {
          "base_uri": "https://localhost:8080/",
          "height": 296
        },
        "outputId": "850f4d9f-afdb-40b6-ef5e-e6b662f85f06"
      },
      "execution_count": 34,
      "outputs": [
        {
          "output_type": "display_data",
          "data": {
            "image/png": "[encoded data removed]",
            "text/plain": [
              "<Figure size 432x288 with 1 Axes>"
            ]
          },
          "metadata": {
            "needs_background": "light"
          }
        },
        {
          "output_type": "stream",
          "name": "stdout",
          "text": [
            "95% confidence interval: [0.13333333333333333, 0.35]\n"
          ]
        }
      ]
    },
    {
      "cell_type": "markdown",
      "source": [
        "Exercise A:4 - Bootstrap confidence interval for an unknown fraction (classifier performance)"
      ],
      "metadata": {
        "id": "pTXEDx0FsMKZ"
      }
    },
    {
      "cell_type": "markdown",
      "source": [
        "a)"
      ],
      "metadata": {
        "id": "RVO2PQScsUAm"
      }
    },
    {
      "cell_type": "code",
      "source": [
        "np_values = np.asarray(['Error', 'Correct'])\n",
        "np_counts = np.asarray([4, 16])\n",
        "np_urn = np.repeat(np_values, np_counts)\n",
        "\n",
        "proportions = []\n",
        "\n",
        "n_iter = 1000\n",
        "for i in range(n_iter):\n",
        "  np_draw_with_replacement = list(np.random.choice(np_urn, size=20, p=None, replace=True))\n",
        "  proportions.append(np_draw_with_replacement.count('Error')/len(np_draw_with_replacement))\n",
        "\n",
        "percentiles = np.percentile(proportions, [2.5, 97.5])\n",
        "print(f'95% confidence interval: [{percentiles[0]}, {percentiles[1]}]')"
      ],
      "metadata": {
        "id": "gzIvm-lfsU1f",
        "colab": {
          "base_uri": "https://localhost:8080/"
        },
        "outputId": "06086c9b-fd1d-4a9e-98d1-ffd62fe45960"
      },
      "execution_count": 40,
      "outputs": [
        {
          "output_type": "stream",
          "name": "stdout",
          "text": [
            "95% confidence interval: [0.05, 0.4]\n"
          ]
        }
      ]
    },
    {
      "cell_type": "markdown",
      "source": [
        "Exercise A:5 - Bootstrap confidence interval for an unknown fraction (robot success rate)"
      ],
      "metadata": {
        "id": "Nv7v2TVOu_2X"
      }
    },
    {
      "cell_type": "markdown",
      "source": [
        "a)"
      ],
      "metadata": {
        "id": "55BGfsYSvMbg"
      }
    },
    {
      "cell_type": "code",
      "source": [
        "np_values = np.asarray(['Success', 'Failure'])\n",
        "np_counts = np.asarray([89, 7])\n",
        "np_urn = np.repeat(np_values, np_counts)\n",
        "\n",
        "n_iter = 1000\n",
        "success_rates = []\n",
        "for i in range(n_iter):\n",
        "  np_draw_with_replacement = list(np.random.choice(np_urn, size=96, p=None, replace=True))\n",
        "  success_rates.append(np_draw_with_replacement.count('Success')/len(np_draw_with_replacement))\n",
        "\n",
        "percentiles = np.percentile(success_rates, [2.5, 97.5])\n",
        "print(f'95% confidence interval: [{percentiles[0]}, {percentiles[1]}]')"
      ],
      "metadata": {
        "colab": {
          "base_uri": "https://localhost:8080/"
        },
        "id": "OolRCpyEvHC_",
        "outputId": "e8a4d79c-a73b-4f88-d388-3363942425ff"
      },
      "execution_count": 36,
      "outputs": [
        {
          "output_type": "stream",
          "name": "stdout",
          "text": [
            "95% confidence interval: [0.875, 0.96875]\n"
          ]
        }
      ]
    },
    {
      "cell_type": "markdown",
      "source": [
        "b)"
      ],
      "metadata": {
        "id": "cILtXZ1fvNSu"
      }
    },
    {
      "cell_type": "code",
      "source": [
        "np_values = np.asarray(['Success', 'Failure'])\n",
        "np_counts = np.asarray([357, 27])\n",
        "np_urn = np.repeat(np_values, np_counts)\n",
        "\n",
        "n_iter = 1000\n",
        "success_rates = []\n",
        "for i in range(n_iter):\n",
        "  np_draw_with_replacement = list(np.random.choice(np_urn, size=384, p=None, replace=True))\n",
        "  success_rates.append(np_draw_with_replacement.count('Success')/len(np_draw_with_replacement))\n",
        "\n",
        "percentiles = np.percentile(success_rates, [2.5, 97.5])\n",
        "print(f'95% confidence interval: [{percentiles[0]}, {percentiles[1]}]')"
      ],
      "metadata": {
        "colab": {
          "base_uri": "https://localhost:8080/"
        },
        "id": "vyIvsZr0vOD_",
        "outputId": "06c1b58b-fdd6-4ab9-b312-31d79e62549c"
      },
      "execution_count": 37,
      "outputs": [
        {
          "output_type": "stream",
          "name": "stdout",
          "text": [
            "95% confidence interval: [0.9036458333333333, 0.9557291666666666]\n"
          ]
        }
      ]
    },
    {
      "cell_type": "markdown",
      "source": [
        "c)"
      ],
      "metadata": {
        "id": "U6CIAE7MvlQ4"
      }
    },
    {
      "cell_type": "code",
      "source": [
        "np_values = np.asarray(['Success', 'Failure'])\n",
        "np_counts = np.asarray([1428, 108])\n",
        "np_urn = np.repeat(np_values, np_counts)\n",
        "\n",
        "n_iter = 1000\n",
        "success_rates = []\n",
        "for i in range(n_iter):\n",
        "  np_draw_with_replacement = list(np.random.choice(np_urn, size=1536, p=None, replace=True))\n",
        "  success_rates.append(np_draw_with_replacement.count('Success')/len(np_draw_with_replacement))\n",
        "\n",
        "percentiles = np.percentile(success_rates, [2.5, 97.5])\n",
        "print(f'95% confidence interval: [{percentiles[0]}, {percentiles[1]}]')"
      ],
      "metadata": {
        "colab": {
          "base_uri": "https://localhost:8080/"
        },
        "id": "NByOEvIGvmug",
        "outputId": "2e241fc4-d4d8-4f7b-9f66-9b954cb54302"
      },
      "execution_count": 38,
      "outputs": [
        {
          "output_type": "stream",
          "name": "stdout",
          "text": [
            "95% confidence interval: [0.9173177083333334, 0.9420572916666666]\n"
          ]
        }
      ]
    },
    {
      "cell_type": "markdown",
      "source": [
        "d) The standard error decreases as the sample size increases. There is less fluctuation between sample statistics when the sample size is bigger.\n"
      ],
      "metadata": {
        "id": "2ndOLZsJv_Gg"
      }
    }
  ],
  "metadata": {
    "colab": {
      "collapsed_sections": [],
      "name": "assignment3_part1.ipynb",
      "provenance": []
    },
    "kernelspec": {
      "display_name": "Python 3",
      "name": "python3"
    },
    "language_info": {
      "name": "python"
    }
  },
  "nbformat": 4,
  "nbformat_minor": 0
}