{
  "nbformat": 4,
  "nbformat_minor": 0,
  "metadata": {
    "colab": {
      "name": "assignment3_part2.ipynb",
      "provenance": [],
      "collapsed_sections": []
    },
    "kernelspec": {
      "name": "python3",
      "display_name": "Python 3"
    },
    "language_info": {
      "name": "python"
    }
  },
  "cells": [
    {
      "cell_type": "markdown",
      "source": [
        "PART B: RESAMPLING BASED HYPOTHESIS TESTING"
      ],
      "metadata": {
        "id": "0AvBwEY6iEUp"
      }
    },
    {
      "cell_type": "markdown",
      "source": [
        "Exercise B:1 - Testing if a classifier performs better than random chance (Proportions)"
      ],
      "metadata": {
        "id": "owWwqagHFaoK"
      }
    },
    {
      "cell_type": "code",
      "source": [
        "import numpy as np\n",
        "import matplotlib.pyplot as plt\n",
        "import statistics as st"
      ],
      "metadata": {
        "id": "IQoM2hRwHpQQ"
      },
      "execution_count": 1,
      "outputs": []
    },
    {
      "cell_type": "code",
      "source": [
        "# H0: r = 0.5; H1: r != 0.5\n",
        "\n",
        "# null hypothesis model\n",
        "np_values = np.asarray(['Error', 'Correct'])\n",
        "np_counts = np.asarray([1, 1])\n",
        "np_urn = np.repeat(np_values, np_counts)\n",
        "\n",
        "# generate samples from null_hypothesis and calculate their test statisitc\n",
        "N_samples = 1000\n",
        "N = 20\n",
        "t_values = []\n",
        "for i in range(N_samples):\n",
        "  np_draw_with_replacement = list(np.random.choice(np_urn, size=N, p=None, replace=True))\n",
        "  t_values.append(np_draw_with_replacement.count('Error')/len(np_draw_with_replacement))\n",
        "\n",
        "# null hypothesis distribution\n",
        "plt.hist(t_values, bins=12)\n",
        "plt.show()\n",
        "\n",
        "significance_level = 0.05\n",
        "\n",
        "# observed value and complement\n",
        "observed_value = 7/20\n",
        "complement_of_the_observed_value = 1 - observed_value\n",
        "\n",
        "# compare observed value with null hypothesis (two-tailed hypothesis test)\n",
        "count = 0\n",
        "for t in t_values:\n",
        "  if t <= observed_value or t >= complement_of_the_observed_value:\n",
        "    count += 1\n",
        "p_value = count/(len(t_values))\n",
        "\n",
        "# outputs\n",
        "if p_value == 0:\n",
        "  print(f'p-value < {1/N_samples}')\n",
        "elif p_value > 0:\n",
        "  print(f'p-value = {p_value}')\n",
        "\n",
        "print(f'Can we reject the null hypothesis? {p_value < significance_level}')\n",
        "\n",
        "if p_value >= significance_level:\n",
        "  print('There is not enough evidence to rebut the null hypothesis')\n",
        "elif p_value < significance_level:\n",
        "  print('The null hypothesis is rejected')"
      ],
      "metadata": {
        "id": "hUUu_8QWHK0r",
        "colab": {
          "base_uri": "https://localhost:8080/",
          "height": 317
        },
        "outputId": "d7a6c40c-2bcf-4ec6-edcd-6c9e189739bb"
      },
      "execution_count": 7,
      "outputs": [
        {
          "output_type": "display_data",
          "data": {
            "image/png": "[encoded data removed]",
            "text/plain": [
              "<Figure size 432x288 with 1 Axes>"
            ]
          },
          "metadata": {
            "needs_background": "light"
          }
        },
        {
          "output_type": "stream",
          "name": "stdout",
          "text": [
            "p-value = 0.26\n",
            "Can we reject the null hypothesis? False\n",
            "There is not enough evidence to rebut the null hypothesis\n"
          ]
        }
      ]
    },
    {
      "cell_type": "markdown",
      "source": [
        "Exercise B:2 - Testing the claim that 88% in a population have a particular property (Proportions)"
      ],
      "metadata": {
        "id": "6k50OxVCQfXD"
      }
    },
    {
      "cell_type": "markdown",
      "source": [
        "a)"
      ],
      "metadata": {
        "id": "u82SSAanUK6X"
      }
    },
    {
      "cell_type": "code",
      "source": [
        "# H0: r >= 0.88; H1: r < 0.88\n",
        "\n",
        "# null hypothesis model\n",
        "np_values = np.asarray(['Positive', 'Negative'])\n",
        "np_counts = np.asarray([88, 12])\n",
        "np_urn = np.repeat(np_values, np_counts)\n",
        "\n",
        "# generate samples from null_hypothesis and calculate their test statisitc\n",
        "N_samples = 1000\n",
        "N = 1200\n",
        "t_values = []\n",
        "for i in range(N_samples):\n",
        "  np_draw_with_replacement = list(np.random.choice(np_urn, size=N, p=None, replace=True))\n",
        "  t_values.append(np_draw_with_replacement.count('Positive')/len(np_draw_with_replacement))\n",
        "\n",
        "# null hypothesis distribution\n",
        "plt.hist(t_values, bins=12)\n",
        "plt.show()\n",
        "\n",
        "significance_level = 0.05\n",
        "\n",
        "# observed value and complement\n",
        "observed_value = 900/1200\n",
        "\n",
        "# compare observed value with null hypothesis (one-tailed hypothesis test)\n",
        "count = 0\n",
        "for t in t_values:\n",
        "  if t <= observed_value:\n",
        "    count += 1\n",
        "p_value = count/(len(t_values))\n",
        "\n",
        "# outputs\n",
        "if p_value == 0:\n",
        "  print(f'p-value < {1/N_samples}')\n",
        "elif p_value > 0:\n",
        "  print(f'p-value = {p_value}')\n",
        "\n",
        "print(f'Can we reject the null hypothesis? {p_value < significance_level}')\n",
        "\n",
        "if p_value >= significance_level:\n",
        "  print('There is not enough evidence to rebut the null hypothesis')\n",
        "elif p_value < significance_level:\n",
        "  print('The null hypothesis is rejected')"
      ],
      "metadata": {
        "colab": {
          "base_uri": "https://localhost:8080/",
          "height": 317
        },
        "id": "flSK70OKQiAX",
        "outputId": "57c3f505-3f96-469a-a1a4-fe8ba82349af"
      },
      "execution_count": 8,
      "outputs": [
        {
          "output_type": "display_data",
          "data": {
            "image/png": "[encoded data removed]",
            "text/plain": [
              "<Figure size 432x288 with 1 Axes>"
            ]
          },
          "metadata": {
            "needs_background": "light"
          }
        },
        {
          "output_type": "stream",
          "name": "stdout",
          "text": [
            "p-value < 0.001\n",
            "Can we reject the null hypothesis? True\n",
            "The null hypothesis is rejected\n"
          ]
        }
      ]
    },
    {
      "cell_type": "markdown",
      "source": [
        "b)"
      ],
      "metadata": {
        "id": "qzDX-7OyUPAD"
      }
    },
    {
      "cell_type": "code",
      "source": [
        "# H0: r >= 0.88; H1: r < 0.88\n",
        "\n",
        "# null hypothesis model\n",
        "np_values = np.asarray(['Positive', 'Negative'])\n",
        "np_counts = np.asarray([88, 12])\n",
        "np_urn = np.repeat(np_values, np_counts)\n",
        "\n",
        "# generate samples from null_hypothesis and calculate their test statisitc\n",
        "N_samples = 1000\n",
        "N = 12\n",
        "t_values = []\n",
        "for i in range(N_samples):\n",
        "  np_draw_with_replacement = list(np.random.choice(np_urn, size=N, p=None, replace=True))\n",
        "  t_values.append(np_draw_with_replacement.count('Positive')/len(np_draw_with_replacement))\n",
        "\n",
        "# null hypothesis distribution\n",
        "plt.hist(t_values, bins=12)\n",
        "plt.show()\n",
        "\n",
        "significance_level = 0.05\n",
        "\n",
        "# observed value and complement\n",
        "observed_value = 9/12\n",
        "\n",
        "# compare observed value with null hypothesis (one-tailed hypothesis test)\n",
        "count = 0\n",
        "for t in t_values:\n",
        "  if t <= observed_value:\n",
        "    count += 1\n",
        "p_value = count/(len(t_values))\n",
        "\n",
        "# outputs\n",
        "if p_value == 0:\n",
        "  print(f'p-value < {1/N_samples}')\n",
        "elif p_value > 0:\n",
        "  print(f'p-value = {p_value}')\n",
        "\n",
        "print(f'Can we reject the null hypothesis? {p_value < significance_level}')\n",
        "\n",
        "if p_value >= significance_level:\n",
        "  print('There is not enough evidence to rebut the null hypothesis')\n",
        "elif p_value < significance_level:\n",
        "  print('The null hypothesis is rejected')"
      ],
      "metadata": {
        "colab": {
          "base_uri": "https://localhost:8080/",
          "height": 317
        },
        "id": "vHEPuz1mUNi7",
        "outputId": "072e176b-e831-4ff7-fa00-99ff2d18041e"
      },
      "execution_count": 11,
      "outputs": [
        {
          "output_type": "display_data",
          "data": {
            "image/png": "[encoded data removed]",
            "text/plain": [
              "<Figure size 432x288 with 1 Axes>"
            ]
          },
          "metadata": {
            "needs_background": "light"
          }
        },
        {
          "output_type": "stream",
          "name": "stdout",
          "text": [
            "p-value = 0.158\n",
            "Can we reject the null hypothesis? False\n",
            "There is not enough evidence to rebut the null hypothesis\n"
          ]
        }
      ]
    },
    {
      "cell_type": "markdown",
      "source": [
        "In this case the sample size is too small, so the observed value is not very significant. There is a lot of variability in a sample of size 12."
      ],
      "metadata": {
        "id": "HGTNjSKxUnNN"
      }
    },
    {
      "cell_type": "markdown",
      "source": [
        "Exercise B:3 - Find testing threshold for when a pipetting robot should go for service (Proportions)"
      ],
      "metadata": {
        "id": "z7G6mkiLWDm9"
      }
    },
    {
      "cell_type": "code",
      "source": [
        "# H0: correct transfers >= 89; H1: correct transfers < 89\n",
        "\n",
        "# null hypothesis model\n",
        "np_values = np.asarray(['Correct', 'Error'])\n",
        "np_counts = np.asarray([89, 7])\n",
        "np_urn = np.repeat(np_values, np_counts)\n",
        "\n",
        "# generate samples from null_hypothesis and calculate their test statisitc\n",
        "N_samples = 10000\n",
        "N = 96\n",
        "t_values = []\n",
        "for i in range(N_samples):\n",
        "  np_draw_with_replacement = list(np.random.choice(np_urn, size=N, p=None, replace=True))\n",
        "  t_values.append(np_draw_with_replacement.count('Correct'))\n",
        "\n",
        "# null hypothesis distribution\n",
        "plt.hist(t_values, bins=12)\n",
        "plt.show()\n",
        "\n",
        "observed_values = np.linspace(80, 98, 19)\n",
        "\n",
        "for x in observed_values:\n",
        "  \n",
        "  # compare observed value with null hypothesis (one-tailed hypothesis test)\n",
        "  count = 0\n",
        "  for t in t_values:\n",
        "    if t <= x:\n",
        "      count += 1\n",
        "  p_value = count/(len(t_values))\n",
        "  if p_value <= 0.05:\n",
        "    threshold = x\n",
        "\n",
        "print(f'threshold: {threshold}')"
      ],
      "metadata": {
        "colab": {
          "base_uri": "https://localhost:8080/",
          "height": 282
        },
        "id": "U1VurovHWD53",
        "outputId": "89ae4939-514e-46f8-9cf5-fda07c9097e0"
      },
      "execution_count": 19,
      "outputs": [
        {
          "output_type": "display_data",
          "data": {
            "image/png": "[encoded data removed]",
            "text/plain": [
              "<Figure size 432x288 with 1 Axes>"
            ]
          },
          "metadata": {
            "needs_background": "light"
          }
        },
        {
          "output_type": "stream",
          "name": "stdout",
          "text": [
            "threshold: 84.0\n"
          ]
        }
      ]
    },
    {
      "cell_type": "markdown",
      "source": [
        "If the number of successful liquid transfers is lower than 84, the null hypothesis should be rejected."
      ],
      "metadata": {
        "id": "UWauT9iiarsR"
      }
    },
    {
      "cell_type": "markdown",
      "source": [
        "Exercise B:4 - Hypothesis testing of sex difference for a feature level (Mean difference)"
      ],
      "metadata": {
        "id": "GYYMwawNkJPV"
      }
    },
    {
      "cell_type": "code",
      "source": [
        "# H0: mean(women) = mean(men); mean(women) != mean(men)\n",
        "\n",
        "women = np.asarray([60, 62, 73, 81, 27, 72, 61, 59, 42, 39, 71, 74])\n",
        "men = np.asarray([74, 79, 80, 89, 71, 72, 92, 67, 91, 83, 43])\n",
        "\n",
        "observed_value = abs(np.mean(women) - np.mean(men))\n",
        "print(f'observed diference: {observed_value}')\n",
        "\n",
        "# null hypothesis model\n",
        "women_and_men = np.concatenate((women, men))\n",
        "\n",
        "# generate samples from null_hypothesis and calculate their test statisitc\n",
        "N_samples = 10000\n",
        "t_values = []\n",
        "for i in range(N_samples):\n",
        "  np_draw_with_replacement_women = np.random.choice(women_and_men, size=12, p=None, replace=True)\n",
        "  np_draw_with_replacement_men = np.random.choice(women_and_men, size=11, p=None, replace=True)\n",
        "  dif = np.mean(np_draw_with_replacement_women) - np.mean(np_draw_with_replacement_men)\n",
        "  t_values.append(dif)\n",
        "\n",
        "# null hypothesis distribution\n",
        "plt.hist(t_values, bins=12)\n",
        "plt.show()\n",
        "\n",
        "significance_level = 0.05\n",
        "\n",
        "# compare observed value with null hypothesis (two-tailed hypothesis test)\n",
        "count = 0\n",
        "for t in t_values:\n",
        "  if t <= -observed_value or t >= observed_value:\n",
        "    count += 1\n",
        "p_value = count/(len(t_values))\n",
        "\n",
        "# outputs\n",
        "if p_value == 0:\n",
        "  print(f'p-value < {1/N_samples}')\n",
        "elif p_value > 0:\n",
        "  print(f'p-value = {p_value}')\n",
        "\n",
        "print(f'Can we reject the null hypothesis? {p_value < significance_level}')\n",
        "\n",
        "if p_value >= significance_level:\n",
        "  print('There is not enough evidence to rebut the null hypothesis')\n",
        "elif p_value < significance_level:\n",
        "  print('The null hypothesis is rejected')"
      ],
      "metadata": {
        "colab": {
          "base_uri": "https://localhost:8080/",
          "height": 334
        },
        "id": "5K54pquOkL29",
        "outputId": "70075ef9-2205-4d55-c1bc-27e215127d27"
      },
      "execution_count": 20,
      "outputs": [
        {
          "output_type": "stream",
          "name": "stdout",
          "text": [
            "observed diference: 16.371212121212118\n"
          ]
        },
        {
          "output_type": "display_data",
          "data": {
            "image/png": "[encoded data removed]",
            "text/plain": [
              "<Figure size 432x288 with 1 Axes>"
            ]
          },
          "metadata": {
            "needs_background": "light"
          }
        },
        {
          "output_type": "stream",
          "name": "stdout",
          "text": [
            "p-value = 0.0195\n",
            "Can we reject the null hypothesis? True\n",
            "The null hypothesis is rejected\n"
          ]
        }
      ]
    },
    {
      "cell_type": "markdown",
      "source": [
        "Exercise B:5 - Detection of difference in levels (Mean difference)"
      ],
      "metadata": {
        "id": "QTj30niZuuDl"
      }
    },
    {
      "cell_type": "code",
      "source": [
        "!pip install scipy --upgrade\n",
        "import scipy\n",
        "print(scipy.__version__) #reset execution environment to get the upgraded version"
      ],
      "metadata": {
        "colab": {
          "base_uri": "https://localhost:8080/"
        },
        "id": "MJZswWs50Ei1",
        "outputId": "48d2462e-4556-4bf0-ca0c-733be52e1f27"
      },
      "execution_count": 4,
      "outputs": [
        {
          "output_type": "stream",
          "name": "stdout",
          "text": [
            "Requirement already satisfied: scipy in /usr/local/lib/python3.7/dist-packages (1.7.3)\n",
            "Requirement already satisfied: numpy<1.23.0,>=1.16.5 in /usr/local/lib/python3.7/dist-packages (from scipy) (1.21.5)\n",
            "1.7.3\n"
          ]
        }
      ]
    },
    {
      "cell_type": "markdown",
      "source": [
        "a)"
      ],
      "metadata": {
        "id": "w66KYrCu6fPl"
      }
    },
    {
      "cell_type": "code",
      "source": [
        "levels_in_factory_A = np.asarray([13.2, 8.2, 10.9, 14.3, 10.7, 6.6, 9.5, 10.8, 8.8, 13.3])\n",
        "levels_in_factory_B = np.asarray([14, 8.8, 11.2, 14.2, 11.8, 6.4, 9.8, 11.3, 9.3, 13.6])\n",
        "\n",
        "observed_value = np.mean(levels_in_factory_A) - np.mean(levels_in_factory_B)\n",
        "print(f'observed diference: {observed_value}')"
      ],
      "metadata": {
        "id": "M5prPt7Mu4Jw",
        "colab": {
          "base_uri": "https://localhost:8080/"
        },
        "outputId": "ba9d842a-64a3-4976-fced-bd71299012af"
      },
      "execution_count": 5,
      "outputs": [
        {
          "output_type": "stream",
          "name": "stdout",
          "text": [
            "observed diference: -0.41000000000000014\n"
          ]
        }
      ]
    },
    {
      "cell_type": "markdown",
      "source": [
        "According to the result we could say that it is quite likely that B has a higher mean than A."
      ],
      "metadata": {
        "id": "pXmqE1WM1VUB"
      }
    },
    {
      "cell_type": "markdown",
      "source": [
        "b)"
      ],
      "metadata": {
        "id": "5zhyHAG83knz"
      }
    },
    {
      "cell_type": "code",
      "source": [
        "# generate samples from null_hypothesis and calculate their test statisitc\n",
        "N_samples = 10000\n",
        "t_values = []\n",
        "for i in range(N_samples):\n",
        "  np_draw_with_replacement_A = np.random.choice(levels_in_factory_A, size=10, p=None, replace=True)\n",
        "  np_draw_with_replacement_B = np.random.choice(levels_in_factory_B, size=10, p=None, replace=True)\n",
        "  dif = np.mean(np_draw_with_replacement_A) - np.mean(np_draw_with_replacement_B)\n",
        "  t_values.append(dif)\n",
        "  \n",
        "# null hypothesis distribution\n",
        "plt.hist(t_values, bins=12)\n",
        "plt.show()\n",
        "\n",
        "from scipy.stats import bootstrap\n",
        "bootstrap = bootstrap((t_values,), np.mean, confidence_level=0.95)\n",
        "low_mean, high_mean = bootstrap.confidence_interval\n",
        "print(f'2,5% percentile: {low_mean}')\n",
        "print(f'97,5% percentile: {high_mean}')\n",
        "\n",
        "print(f'Does the confidence interval contain 0? {low_mean<0 and 0<high_mean}')"
      ],
      "metadata": {
        "colab": {
          "base_uri": "https://localhost:8080/",
          "height": 317
        },
        "id": "5SourmMK1Otr",
        "outputId": "963e8882-cd5e-42d5-f00d-cd5a274a9335"
      },
      "execution_count": 6,
      "outputs": [
        {
          "output_type": "display_data",
          "data": {
            "image/png": "[encoded data removed]",
            "text/plain": [
              "<Figure size 432x288 with 1 Axes>"
            ]
          },
          "metadata": {
            "needs_background": "light"
          }
        },
        {
          "output_type": "stream",
          "name": "stdout",
          "text": [
            "2,5% percentile: -0.438434655853696\n",
            "97,5% percentile: -0.3966366487773906\n",
            "Does the confidence interval contain 0? False\n"
          ]
        }
      ]
    },
    {
      "cell_type": "markdown",
      "source": [
        "The confidence interval is on the left side of the origin, this seems to confirm that B has a higher mean than A."
      ],
      "metadata": {
        "id": "cL_bA2891zRo"
      }
    },
    {
      "cell_type": "markdown",
      "source": [
        "c)"
      ],
      "metadata": {
        "id": "HGjMH8Fi3wGU"
      }
    },
    {
      "cell_type": "code",
      "source": [
        "# H0: mean(A) <= mean(B); H1: mean(A) > mean(B)\n",
        "\n",
        "# null hypothesis model\n",
        "values_in_A_and_B = np.concatenate((levels_in_factory_A, levels_in_factory_B))\n",
        "\n",
        "N_samples = 10000\n",
        "t_values = []\n",
        "for i in range(N_samples):\n",
        "  np_draw_with_replacement_A = np.random.choice(values_in_A_and_B, size=10, p=None, replace=True)\n",
        "  np_draw_with_replacement_B = np.random.choice(values_in_A_and_B, size=10, p=None, replace=True)\n",
        "  t_values.append(np.mean(np_draw_with_replacement_A) - np.mean(np_draw_with_replacement_B))\n",
        "\n",
        "# null hypothesis distribution\n",
        "plt.hist(t_values, bins=12)\n",
        "plt.show()\n",
        "\n",
        "# compare observed value with null hypothesis (one-tailed hypothesis test)\n",
        "count = 0\n",
        "for t in t_values:\n",
        "  if t >= observed_value:\n",
        "    count += 1\n",
        "p_value = count/(len(t_values))\n",
        "\n",
        "# outputs\n",
        "if p_value == 0:\n",
        "  print(f'p-value < {1/N_samples}')\n",
        "elif p_value > 0:\n",
        "  print(f'p-value = {p_value}')\n",
        "\n",
        "print(f'Can we reject the null hypothesis? {p_value < significance_level}')\n",
        "\n",
        "if p_value >= significance_level:\n",
        "  print('There is not enough evidence to rebut the null hypothesis')\n",
        "elif p_value < significance_level:\n",
        "  print('The null hypothesis is rejected')"
      ],
      "metadata": {
        "colab": {
          "base_uri": "https://localhost:8080/",
          "height": 317
        },
        "id": "A2-Jm7Jb3467",
        "outputId": "bfc3209a-0e0f-4efb-c115-484c0e1f0417"
      },
      "execution_count": null,
      "outputs": [
        {
          "output_type": "display_data",
          "data": {
            "image/png": "[encoded data removed]",
            "text/plain": [
              "<Figure size 432x288 with 1 Axes>"
            ]
          },
          "metadata": {
            "needs_background": "light"
          }
        },
        {
          "output_type": "stream",
          "name": "stdout",
          "text": [
            "p-value = 0.6479\n",
            "Can we reject the null hypothesis? False\n",
            "There is not enough evidence to rebut the null hypothesis\n"
          ]
        }
      ]
    },
    {
      "cell_type": "markdown",
      "source": [
        "Exercise B:6 - Detection of difference in spread (diffs in σ and IQR)"
      ],
      "metadata": {
        "id": "-rL3pkvC_-L0"
      }
    },
    {
      "cell_type": "code",
      "source": [
        "# H0: A = B; H1: A != B\n",
        "values_of_group_A = np.asarray([13.2, 8.2, 10.9, 14.3, 10.7, 6.6, 9.5, 10.8, 8.8, 13.3])\n",
        "values_of_group_B = np.asarray([14, 8.8, 11.2, 14.2, 11.8, 6.4, 9.8, 11.3, 9.3, 13.6])\n",
        "\n",
        "# calculate std\n",
        "std_A = st.stdev(values_of_group_A)\n",
        "std_B = st.stdev(values_of_group_B)\n",
        "\n",
        "std_diff = (std_A) - (std_B)\n",
        "print(f'Observed std difference: {std_diff}')\n",
        "\n",
        "#calculate interquartile range \n",
        "q3_A, q1_A = np.percentile(values_of_group_A, [75, 25])\n",
        "iqr_A = q3_A - q1_A\n",
        "q3_B, q1_B = np.percentile(values_of_group_B, [75, 25])\n",
        "iqr_B = q3_B - q1_B\n",
        "\n",
        "interquartile_diff = (iqr_A) - (iqr_B)\n",
        "print(f'Observed IQR difference: {interquartile_diff}')\n",
        "\n",
        "values_in_A_and_B = np.concatenate((values_of_group_A, values_of_group_B))\n",
        "\n",
        "N_samples = 1000\n",
        "t_values_std = []\n",
        "t_values_iqr = []\n",
        "for i in range(N_samples):\n",
        "  np_draw_with_replacement_A = np.random.choice(values_in_A_and_B, size=10, p=None, replace=True)\n",
        "  np_draw_with_replacement_B = np.random.choice(values_in_A_and_B, size=10, p=None, replace=True)\n",
        "  t_values_std.append(st.stdev(np_draw_with_replacement_A) - st.stdev(np_draw_with_replacement_B))\n",
        "  q3_A, q1_A = np.percentile(np_draw_with_replacement_A, [75, 25])\n",
        "  iqr_A = q3_A - q1_A\n",
        "  q3_B, q1_B = np.percentile(np_draw_with_replacement_B, [75, 25])\n",
        "  iqr_B = q3_B - q1_B\n",
        "  t_values_iqr.append(iqr_A - iqr_B)\n",
        "\n",
        "# null hypothesis distribution\n",
        "fig, ax = plt.subplots(1, 2, sharex=True, sharey=True)\n",
        "ax[0].hist(t_values_std, bins=12)\n",
        "ax[0].text(-5.5, 250, \"histogram for std differences\")\n",
        "ax[1].hist(t_values_iqr, bins=12)\n",
        "ax[1].text(-5.5, 250, \"histogram for IQR differences\")\n",
        "plt.show()\n",
        "\n",
        "significance_level = 0.05\n",
        "\n",
        "# compare observed value with null hypothesis (two-tailed hypothesis test)\n",
        "count_std = 0\n",
        "for t in t_values_std:\n",
        "  if t <= std_diff or t >= abs(std_diff):\n",
        "    count_std += 1\n",
        "count_iqr = 0\n",
        "for t in t_values_iqr:\n",
        "  if t <= interquartile_diff or t >= abs(interquartile_diff):\n",
        "    count_iqr += 1\n",
        "\n",
        "p_value_std = count_std/len(t_values_std)\n",
        "p_value_iqr = count_iqr/len(t_values_iqr)\n",
        "\n",
        "# outputs\n",
        "if p_value_std == 0:\n",
        "  print(f'p-value_std < {1/N_samples}')\n",
        "elif p_value > 0:\n",
        "  print(f'p-value_std = {p_value_std}')\n",
        "\n",
        "if p_value_iqr == 0:\n",
        "  print(f'p-value_iqr < {1/N_samples}')\n",
        "elif p_value_iqr > 0:\n",
        "  print(f'p-value_iqr = {p_value_iqr}')\n",
        "\n",
        "print(f'Can we reject the null hypothesis? {(p_value_std < significance_level) and (p_value_iqr < significance_level)}')\n",
        "\n",
        "if (p_value_std >= significance_level) and (p_value_iqr >= significance_level):\n",
        "  print('There is not enough evidence to rebut the null hypothesis')\n",
        "elif (p_value_std < significance_level) and (p_value_iqr < significance_level):\n",
        "  print('The null hypothesis is rejected')"
      ],
      "metadata": {
        "colab": {
          "base_uri": "https://localhost:8080/",
          "height": 401
        },
        "id": "xg6_m3L6__CH",
        "outputId": "ec65b64c-187a-44f5-9086-04b199a3ffb7"
      },
      "execution_count": null,
      "outputs": [
        {
          "output_type": "stream",
          "name": "stdout",
          "text": [
            "Observed std difference: -0.06713896935907782\n",
            "Observed IQR difference: -0.07500000000000107\n"
          ]
        },
        {
          "output_type": "display_data",
          "data": {
            "image/png": "[encoded data removed]",
            "text/plain": [
              "<Figure size 432x288 with 2 Axes>"
            ]
          },
          "metadata": {
            "needs_background": "light"
          }
        },
        {
          "output_type": "stream",
          "name": "stdout",
          "text": [
            "p-value_std = 0.913\n",
            "p-value_iqr = 0.959\n",
            "Can we reject the null hypothesis? False\n",
            "There is not enough evidence to rebut the null hypothesis\n"
          ]
        }
      ]
    },
    {
      "cell_type": "markdown",
      "source": [
        "Exercise B:7 - Detection of difference in correlation"
      ],
      "metadata": {
        "id": "NofkZlXnilVj"
      }
    },
    {
      "cell_type": "code",
      "source": [
        "dA = np.asarray([0.67, -1.29, -0.42, 0.27, -0.59, -0.06, 0.41, 0.40, 1.00, 1.14])\n",
        "dB = np.asarray([0.45, 1.68, 0.17, 0.07, 0.35, 0.00, 0.16, 0.16, 1.00, 1.29])\n",
        "\n",
        "from scipy import stats\n",
        "#calculate Pearson's correlationcoefficient\n",
        "pearson = scipy.stats.pearsonr(dA, dB)\n",
        "corr = abs(pearson[0])\n",
        "print(f'Pearson correlation coefficient = {corr}')\n",
        "\n",
        "# H0: corr = 0; corr != 0\n",
        "\n",
        "N_samples = 10000\n",
        "t_values = []\n",
        "for i in range(N_samples):\n",
        "  random_dA = np.random.choice(dA, size=10, p=None, replace=False) # shuffle dA\n",
        "  pearson = scipy.stats.pearsonr(random_dA, dB)\n",
        "  t_values.append(pearson[0])\n",
        "\n",
        "# null hypothesis distribution\n",
        "plt.hist(t_values, bins=12)\n",
        "plt.show()\n",
        "\n",
        "significance_level = 0.05\n",
        "\n",
        "# outputs\n",
        "if p_value == 0:\n",
        "  print(f'p-value < {1/N_samples}')\n",
        "elif p_value > 0:\n",
        "  print(f'p-value = {p_value}')\n",
        "\n",
        "print(f'Can we reject the null hypothesis? {p_value < significance_level}')\n",
        "\n",
        "if p_value >= significance_level:\n",
        "  print('There is not enough evidence to rebut the null hypothesis')\n",
        "elif p_value < significance_level:\n",
        "  print('The null hypothesis is rejected')"
      ],
      "metadata": {
        "colab": {
          "base_uri": "https://localhost:8080/",
          "height": 334
        },
        "id": "zdcrijGnitlI",
        "outputId": "dc2e0b70-7f91-4ee0-e800-11f192af8481"
      },
      "execution_count": null,
      "outputs": [
        {
          "output_type": "stream",
          "name": "stdout",
          "text": [
            "Pearson correlation coefficient = 0.08606138240202507\n"
          ]
        },
        {
          "output_type": "display_data",
          "data": {
            "image/png": "[encoded data removed]",
            "text/plain": [
              "<Figure size 432x288 with 1 Axes>"
            ]
          },
          "metadata": {
            "needs_background": "light"
          }
        },
        {
          "output_type": "stream",
          "name": "stdout",
          "text": [
            "p-value = 0.6479\n",
            "Can we reject the null hypothesis? False\n",
            "There is not enough evidence to rebut the null hypothesis\n"
          ]
        }
      ]
    },
    {
      "cell_type": "code",
      "source": [
        "plt.scatter(dA, dB)\n",
        "plt.title('Correlation between A and B')\n",
        "plt.xlabel('dA')\n",
        "plt.ylabel('dB')\n",
        "plt.show()"
      ],
      "metadata": {
        "colab": {
          "base_uri": "https://localhost:8080/",
          "height": 295
        },
        "id": "tcLhmqNAA0In",
        "outputId": "fbd4422e-4be5-422e-c055-e521c98198ca"
      },
      "execution_count": null,
      "outputs": [
        {
          "output_type": "display_data",
          "data": {
            "image/png": "[encoded data removed]",
            "text/plain": [
              "<Figure size 432x288 with 1 Axes>"
            ]
          },
          "metadata": {
            "needs_background": "light"
          }
        }
      ]
    },
    {
      "cell_type": "markdown",
      "source": [
        "There seems the be a quadratic correlation between A and B. Pearson's correlation coefficient only takes into account a linear correlation, that's why the previous p-value is very large."
      ],
      "metadata": {
        "id": "uhfMuh8pA-0f"
      }
    }
  ]
}